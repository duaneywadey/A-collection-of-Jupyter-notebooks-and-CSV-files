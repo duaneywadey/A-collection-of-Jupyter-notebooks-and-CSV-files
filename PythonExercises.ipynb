{
  "nbformat": 4,
  "nbformat_minor": 0,
  "metadata": {
    "colab": {
      "provenance": [],
      "collapsed_sections": [],
      "authorship_tag": "ABX9TyOUMxwtmIdIuijsWIESLTY5",
      "include_colab_link": true
    },
    "kernelspec": {
      "name": "python3",
      "display_name": "Python 3"
    },
    "language_info": {
      "name": "python"
    }
  },
  "cells": [
    {
      "cell_type": "markdown",
      "metadata": {
        "id": "view-in-github",
        "colab_type": "text"
      },
      "source": [
        "<a href=\"https://colab.research.google.com/github/duaneywadey/A-collection-of-Jupyter-notebooks-and-CSV-files/blob/data-structures-and-algorithms-review/PythonExercises.ipynb\" target=\"_parent\"><img src=\"https://colab.research.google.com/assets/colab-badge.svg\" alt=\"Open In Colab\"/></a>"
      ]
    },
    {
      "cell_type": "code",
      "execution_count": 203,
      "metadata": {
        "colab": {
          "base_uri": "https://localhost:8080/"
        },
        "id": "3yc-ATPJ3w5k",
        "outputId": "2fd12a36-5739-4fa3-e611-72cc716e0790"
      },
      "outputs": [
        {
          "output_type": "execute_result",
          "data": {
            "text/plain": [
              "[4, 10, 6, 14]"
            ]
          },
          "metadata": {},
          "execution_count": 203
        }
      ],
      "source": [
        "# Multiply all odd nums by two\n",
        "\n",
        "def calculate(numList):\n",
        "  listofnums = []\n",
        "  for i in numList:\n",
        "    if i%2!=0:\n",
        "      listofnums.append(i*2)\n",
        "    else:\n",
        "      listofnums.append(i)\n",
        "  return listofnums\n",
        "\n",
        "listnum = [4, 5, 6, 7]\n",
        "calculate(listnum)\n"
      ]
    },
    {
      "cell_type": "code",
      "source": [
        "# One liner\n",
        "\n",
        "def calculate(numList):\n",
        "  return[(2*i if i%2!=0 else i) for i in numList]\n",
        "\n",
        "listnum = [4, 5, 6, 7]\n",
        "calculate(listnum)"
      ],
      "metadata": {
        "colab": {
          "base_uri": "https://localhost:8080/"
        },
        "id": "j39V1l0n45p5",
        "outputId": "a6f2bb63-1858-483b-9217-8ca8c5147afa"
      },
      "execution_count": 204,
      "outputs": [
        {
          "output_type": "execute_result",
          "data": {
            "text/plain": [
              "[4, 10, 6, 14]"
            ]
          },
          "metadata": {},
          "execution_count": 204
        }
      ]
    },
    {
      "cell_type": "code",
      "source": [
        "# Counting positive and negative values\n",
        "\n",
        "def howManyPos(numList):\n",
        "  positive, negative = 0,0\n",
        "  for n in numList:\n",
        "    if n>=0:\n",
        "      positive+=1\n",
        "    else:\n",
        "      negative+=1\n",
        "  return positive,negative\n",
        "\n",
        "listnum = [4, 5, 6,-2, 7]\n",
        "howManyPos(listnum)"
      ],
      "metadata": {
        "colab": {
          "base_uri": "https://localhost:8080/"
        },
        "id": "J1iQ7OgQ6WkP",
        "outputId": "77a8331a-3d8c-4479-8b49-f24520191a86"
      },
      "execution_count": 205,
      "outputs": [
        {
          "output_type": "execute_result",
          "data": {
            "text/plain": [
              "(4, 1)"
            ]
          },
          "metadata": {},
          "execution_count": 205
        }
      ]
    },
    {
      "cell_type": "code",
      "source": [
        "# Cleaning numerical data\n",
        "\n",
        "def preprocess(raw_data):\n",
        "    return int(raw_data[2:].replace(',', ''))\n",
        "\n",
        "preprocess(\"$ 158,400,800\")"
      ],
      "metadata": {
        "colab": {
          "base_uri": "https://localhost:8080/"
        },
        "id": "UOXrBWmO8Gcb",
        "outputId": "5d3b272d-61af-416e-aaa0-d04c7931bd72"
      },
      "execution_count": 206,
      "outputs": [
        {
          "output_type": "execute_result",
          "data": {
            "text/plain": [
              "158400800"
            ]
          },
          "metadata": {},
          "execution_count": 206
        }
      ]
    },
    {
      "cell_type": "code",
      "source": [
        "# Make hashtags\n",
        "\n",
        "listran=['Hello', 'Im', 'Duane']\n",
        "\n",
        "def createHashtag(raw_list):\n",
        "  return '#' + ' #'.join(raw_list)\n",
        "\n",
        "createHashtag(listran)"
      ],
      "metadata": {
        "colab": {
          "base_uri": "https://localhost:8080/",
          "height": 35
        },
        "id": "TFohmMbY9ubC",
        "outputId": "d63caef4-afab-4387-c04d-72b77469816a"
      },
      "execution_count": 207,
      "outputs": [
        {
          "output_type": "execute_result",
          "data": {
            "text/plain": [
              "'#Hello #Im #Duane'"
            ],
            "application/vnd.google.colaboratory.intrinsic+json": {
              "type": "string"
            }
          },
          "metadata": {},
          "execution_count": 207
        }
      ]
    },
    {
      "cell_type": "code",
      "source": [
        "# Snake casing to camel casing\n",
        "\n",
        "def convert(text):\n",
        "    pascal_case = text.replace('_', ' ').title().replace(' ', '')\n",
        "    return pascal_case[0].lower() + pascal_case[1:]\n",
        "\n",
        "convert(\"calculate_summary\")"
      ],
      "metadata": {
        "id": "6zs6hb5v_Qcr",
        "colab": {
          "base_uri": "https://localhost:8080/",
          "height": 35
        },
        "outputId": "42588dfd-156d-4d23-8107-824f07c6b77f"
      },
      "execution_count": 208,
      "outputs": [
        {
          "output_type": "execute_result",
          "data": {
            "text/plain": [
              "'calculateSummary'"
            ],
            "application/vnd.google.colaboratory.intrinsic+json": {
              "type": "string"
            }
          },
          "metadata": {},
          "execution_count": 208
        }
      ]
    },
    {
      "cell_type": "code",
      "source": [
        "# Collect elements with .png\n",
        "\n",
        "def collectPNG(stream):\n",
        "    for chunk in stream[:]:\n",
        "        if not chunk.endswith('.png'):\n",
        "            stream.remove(chunk)\n",
        "    return stream\n",
        "\n",
        "def collectPNGAgain(elements):\n",
        "    for e in elements[:]:\n",
        "      if not e.endswith('.png'):\n",
        "        elements.remove(e)\n",
        "    return elements\n",
        "\n",
        "# Solution 2\n",
        "\n",
        "def collectPNGOneLine(elements):\n",
        "  return [e for e in elements if e.endswith('.pdf')]\n",
        "\n",
        "filelist = ['img546.png', 'img243.png', 'img247.txt', 'img2456.pdf']\n",
        "collectPNGOneLine(filelist)"
      ],
      "metadata": {
        "colab": {
          "base_uri": "https://localhost:8080/"
        },
        "id": "JjqiY9Zx_FKZ",
        "outputId": "d56924d7-ee24-4f7a-e75d-6ecb79609e6d"
      },
      "execution_count": 209,
      "outputs": [
        {
          "output_type": "execute_result",
          "data": {
            "text/plain": [
              "['img2456.pdf']"
            ]
          },
          "metadata": {},
          "execution_count": 209
        }
      ]
    },
    {
      "cell_type": "code",
      "source": [
        "import random\n",
        "\n",
        "def allMultofFive(numList):\n",
        "  numList = [i for i in numList if i%5==0]\n",
        "  return numList\n",
        "\n",
        "a = [random.randint(1,10000) for x in range(10)]\n",
        "allMultofFive(a)"
      ],
      "metadata": {
        "colab": {
          "base_uri": "https://localhost:8080/"
        },
        "id": "EGIUbyePGmMB",
        "outputId": "3dcd9e76-d926-41c5-f100-50c90704bd45"
      },
      "execution_count": 210,
      "outputs": [
        {
          "output_type": "execute_result",
          "data": {
            "text/plain": [
              "[]"
            ]
          },
          "metadata": {},
          "execution_count": 210
        }
      ]
    },
    {
      "cell_type": "code",
      "source": [
        "def startingWithA(stringlist):\n",
        "  return[f for f in stringlist if f[0] == \"A\"]\n",
        "\n",
        "listwords = ['Bob', 'Apple', 'Australia', 'Bahrain']\n",
        "startingWithA(listwords)\n"
      ],
      "metadata": {
        "colab": {
          "base_uri": "https://localhost:8080/"
        },
        "id": "DUmqe5skKd54",
        "outputId": "5e487c80-30d2-4fd7-8c20-5650449236f5"
      },
      "execution_count": 211,
      "outputs": [
        {
          "output_type": "execute_result",
          "data": {
            "text/plain": [
              "['Apple', 'Australia']"
            ]
          },
          "metadata": {},
          "execution_count": 211
        }
      ]
    },
    {
      "cell_type": "code",
      "source": [
        "def modList(pyList):\n",
        "  newlist = [p for p in pyList if p%2==0 ]\n",
        "  onlyunique = set(newlist)\n",
        "  return onlyunique\n",
        "\n",
        "oldlist = [5,2,4,1,6,3,6,9,8,9,9,9,9,7]\n",
        "modList(oldlist)"
      ],
      "metadata": {
        "id": "35AoSWnBLOfB",
        "colab": {
          "base_uri": "https://localhost:8080/"
        },
        "outputId": "5e1255e4-c945-40ad-ca75-d06943bbec03"
      },
      "execution_count": 212,
      "outputs": [
        {
          "output_type": "execute_result",
          "data": {
            "text/plain": [
              "{2, 4, 6, 8}"
            ]
          },
          "metadata": {},
          "execution_count": 212
        }
      ]
    },
    {
      "cell_type": "code",
      "source": [
        "a=5\n",
        "b=10\n",
        "print(a)\n",
        "print(b)\n",
        "\n",
        "temp=a; # temp is equal to 5\n",
        "a=b # a is equal to 10\n",
        "b=temp # b is equal to 5\n",
        "\n",
        "print(a)\n",
        "print(b)"
      ],
      "metadata": {
        "colab": {
          "base_uri": "https://localhost:8080/"
        },
        "id": "lM00NPcP9ewT",
        "outputId": "84710405-3875-4cae-b610-dca429c9f2df"
      },
      "execution_count": 213,
      "outputs": [
        {
          "output_type": "stream",
          "name": "stdout",
          "text": [
            "5\n",
            "10\n",
            "10\n",
            "5\n"
          ]
        }
      ]
    },
    {
      "cell_type": "code",
      "source": [
        "def factorial(n):\n",
        "  if n<=1:\n",
        "    return n\n",
        "  else:\n",
        "    return n * factorial(n-1)\n",
        "\n",
        "factorial(10)"
      ],
      "metadata": {
        "colab": {
          "base_uri": "https://localhost:8080/"
        },
        "id": "zqb1FG9e-GZg",
        "outputId": "6bcaaaa1-32b8-40a0-e8cf-2a5e1a29ba57"
      },
      "execution_count": 214,
      "outputs": [
        {
          "output_type": "execute_result",
          "data": {
            "text/plain": [
              "3628800"
            ]
          },
          "metadata": {},
          "execution_count": 214
        }
      ]
    },
    {
      "cell_type": "code",
      "source": [
        "number_list = [ random.randint(1,1000) for x in range(20)]\n",
        "print(number_list)\n",
        "for n in number_list:\n",
        "  print(n , \"\\t\\tNo. of occurences: \", number_list.count(n))\n",
        "\n"
      ],
      "metadata": {
        "id": "mZEFgsfy_EEr",
        "colab": {
          "base_uri": "https://localhost:8080/"
        },
        "outputId": "90ddb153-52b7-41e7-a9f3-577a0e1ae4c8"
      },
      "execution_count": 215,
      "outputs": [
        {
          "output_type": "stream",
          "name": "stdout",
          "text": [
            "[863, 768, 662, 422, 134, 695, 985, 885, 379, 383, 670, 390, 51, 827, 252, 658, 123, 143, 333, 30]\n",
            "863 \t\tNo. of occurences:  1\n",
            "768 \t\tNo. of occurences:  1\n",
            "662 \t\tNo. of occurences:  1\n",
            "422 \t\tNo. of occurences:  1\n",
            "134 \t\tNo. of occurences:  1\n",
            "695 \t\tNo. of occurences:  1\n",
            "985 \t\tNo. of occurences:  1\n",
            "885 \t\tNo. of occurences:  1\n",
            "379 \t\tNo. of occurences:  1\n",
            "383 \t\tNo. of occurences:  1\n",
            "670 \t\tNo. of occurences:  1\n",
            "390 \t\tNo. of occurences:  1\n",
            "51 \t\tNo. of occurences:  1\n",
            "827 \t\tNo. of occurences:  1\n",
            "252 \t\tNo. of occurences:  1\n",
            "658 \t\tNo. of occurences:  1\n",
            "123 \t\tNo. of occurences:  1\n",
            "143 \t\tNo. of occurences:  1\n",
            "333 \t\tNo. of occurences:  1\n",
            "30 \t\tNo. of occurences:  1\n"
          ]
        }
      ]
    },
    {
      "cell_type": "code",
      "source": [
        "list_input=[1,2,3,4,6,3,2,4,6,4,2,4,7,8,6,4]\n",
        "list_output = []\n",
        "if list_input:\n",
        "    m = list_input[0]\n",
        "    print(m)\n",
        "for x in list_input:\n",
        "    m = max(m, x)\n",
        "    list_output.append(m)\n",
        "print(list_output)"
      ],
      "metadata": {
        "colab": {
          "base_uri": "https://localhost:8080/"
        },
        "id": "lgHEkB-bE5As",
        "outputId": "42582ea7-c578-4709-c8db-d6a8d4d62ea8"
      },
      "execution_count": 216,
      "outputs": [
        {
          "output_type": "stream",
          "name": "stdout",
          "text": [
            "1\n",
            "[1, 2, 3, 4, 6, 6, 6, 6, 6, 6, 6, 6, 7, 8, 8, 8]\n"
          ]
        }
      ]
    },
    {
      "cell_type": "code",
      "source": [
        "item_no = [5, 6, 7, 10,12]\n",
        "max_no = 0  # Note 1 \n",
        "for i in item_no:\n",
        "    if i > max_no:\n",
        "        max_no = i\n",
        "        high = [i]\n",
        "    elif i == max_no:\n",
        "        high.append(i)\n",
        "print(high)"
      ],
      "metadata": {
        "colab": {
          "base_uri": "https://localhost:8080/"
        },
        "id": "6lky9MPsJOzg",
        "outputId": "1acaef11-87ec-4307-bff5-2a2f7db0914d"
      },
      "execution_count": 217,
      "outputs": [
        {
          "output_type": "stream",
          "name": "stdout",
          "text": [
            "[12]\n"
          ]
        }
      ]
    },
    {
      "cell_type": "code",
      "source": [
        "listOfNum = [41,62,83,51,8,6,7,73,66,85,627,728,2,6,4,6]\n",
        "maxNum = 0\n",
        "\n",
        "for i in listOfNum:\n",
        "  if i > maxNum:\n",
        "    maxNum = i\n",
        "    high = [i]\n",
        "  elif i == maxNum:\n",
        "    high.append(i)\n",
        "\n",
        "print('Final', high)\n",
        "\n",
        "\n",
        "# maxNum = 1,2,3,4\n",
        "# \n"
      ],
      "metadata": {
        "colab": {
          "base_uri": "https://localhost:8080/"
        },
        "id": "jawaxE5SmooX",
        "outputId": "a5273fc5-fc80-407f-cd15-3e0ca0e8c0f1"
      },
      "execution_count": 218,
      "outputs": [
        {
          "output_type": "stream",
          "name": "stdout",
          "text": [
            "Final [728]\n"
          ]
        }
      ]
    },
    {
      "cell_type": "code",
      "source": [
        "listOfNum = [41,62,83,51,8,6,7,73,66,85,62007,728,2,6,4,6]\n",
        "maxNum = 0\n",
        "\n",
        "for i in listOfNum:\n",
        "  if i > maxNum:\n",
        "    maxNum = i\n",
        "    high = [i]\n",
        "  elif i == maxNum:\n",
        "    high.append(i)\n",
        "\n",
        "print('Final', high)\n"
      ],
      "metadata": {
        "colab": {
          "base_uri": "https://localhost:8080/"
        },
        "id": "BQXPXM_uqYjs",
        "outputId": "e55a227e-fdbc-4a86-90a6-53997185bf35"
      },
      "execution_count": 219,
      "outputs": [
        {
          "output_type": "stream",
          "name": "stdout",
          "text": [
            "Final [62007]\n"
          ]
        }
      ]
    },
    {
      "cell_type": "code",
      "source": [
        "x = [2,3,5,9,1,0,-13,2,3]\n",
        "\n",
        "def my_min(sequence):\n",
        "    \"\"\"return the minimum element of sequence\"\"\"\n",
        "    low = sequence[0] # need to start with some value\n",
        "    for i in sequence:\n",
        "        if i < low:\n",
        "            low = i\n",
        "    return low\n",
        "\n",
        "my_min(x)"
      ],
      "metadata": {
        "colab": {
          "base_uri": "https://localhost:8080/"
        },
        "id": "d5OVZGe2t7tr",
        "outputId": "e26d6392-6a4b-4a4b-9378-8e95a1fe55ff"
      },
      "execution_count": 220,
      "outputs": [
        {
          "output_type": "execute_result",
          "data": {
            "text/plain": [
              "-13"
            ]
          },
          "metadata": {},
          "execution_count": 220
        }
      ]
    },
    {
      "cell_type": "code",
      "source": [
        "testList = [6,7,6,8,2,1,6,-6,-62,-627,62,631,8]\n",
        "\n",
        "lowest = testList[0]\n",
        "for i in testList:\n",
        "  if i < lowest:\n",
        "    lowest = i\n",
        "print(lowest)\n",
        "\n",
        "def bubbleSort(sortlist):\n",
        "  sortlistLength = len(sortlist)\n",
        "  for x in range(0,sortlistLength-1):\n",
        "    for y in range(0,sortlistLength-1):\n",
        "      if sortlist[y] > sortlist[y+1]:\n",
        "        temp = sortlist[y] \n",
        "        sortlist[y] = sortlist[y+1] \n",
        "        sortlist[y+1] = temp \n",
        "  return sortlist\n",
        "\n",
        "bubbleSort(testList)\n",
        "\n"
      ],
      "metadata": {
        "colab": {
          "base_uri": "https://localhost:8080/"
        },
        "id": "o0bOTZenvQJd",
        "outputId": "8c9c17d6-89f2-4bf8-fa93-4982b4f36a5c"
      },
      "execution_count": 221,
      "outputs": [
        {
          "output_type": "stream",
          "name": "stdout",
          "text": [
            "-627\n"
          ]
        },
        {
          "output_type": "execute_result",
          "data": {
            "text/plain": [
              "[-627, -62, -6, 1, 2, 6, 6, 6, 7, 8, 8, 62, 631]"
            ]
          },
          "metadata": {},
          "execution_count": 221
        }
      ]
    },
    {
      "cell_type": "code",
      "source": [
        "greatest = testList[0]\n",
        "for s in testList:\n",
        "  if s > greatest:\n",
        "    greatest=s\n",
        "print(greatest)"
      ],
      "metadata": {
        "colab": {
          "base_uri": "https://localhost:8080/"
        },
        "id": "mvAYJ6C6vp36",
        "outputId": "ad17d630-67a8-4736-af97-b818b3c875e4"
      },
      "execution_count": 222,
      "outputs": [
        {
          "output_type": "stream",
          "name": "stdout",
          "text": [
            "631\n"
          ]
        }
      ]
    },
    {
      "cell_type": "code",
      "source": [
        "def linearSearch(searchList,n):\n",
        "  for i in range(len(searchList)):\n",
        "    if (searchList[i] == n):\n",
        "      return n\n",
        "    \n",
        "\n",
        "array = [2, 4, 0, 1, 9]\n",
        "linearSearch(array,4)\n",
        "print(len(array))"
      ],
      "metadata": {
        "colab": {
          "base_uri": "https://localhost:8080/"
        },
        "id": "mEh6MJwfv9Ti",
        "outputId": "ce1f3eff-25c9-4a0d-c93e-0e29c550b83c"
      },
      "execution_count": 223,
      "outputs": [
        {
          "output_type": "stream",
          "name": "stdout",
          "text": [
            "5\n"
          ]
        }
      ]
    },
    {
      "cell_type": "code",
      "source": [
        "def bubbleSortNew(listtest):\n",
        "  totalLength = len(listtest)\n",
        "  for x in range(0,totalLength-1):\n",
        "    for y in range(0,totalLength-1):\n",
        "      if listtest[y] > listtest[y+1]:\n",
        "       # 100, 60 \n",
        "        temp = listtest[y]\n",
        "        listtest[y] = listtest[y+1]\n",
        "        listtest[y+1] = temp \n",
        "    return listtest\n",
        "\n",
        "bubbleSortNew(testList)"
      ],
      "metadata": {
        "colab": {
          "base_uri": "https://localhost:8080/"
        },
        "id": "jgyfGjKhxlRE",
        "outputId": "e74fe9ac-b14e-434b-815c-07c82d74fae6"
      },
      "execution_count": 226,
      "outputs": [
        {
          "output_type": "execute_result",
          "data": {
            "text/plain": [
              "[-627, -62, -6, 1, 2, 6, 6, 6, 7, 8, 8, 62, 631]"
            ]
          },
          "metadata": {},
          "execution_count": 226
        }
      ]
    },
    {
      "cell_type": "code",
      "source": [],
      "metadata": {
        "id": "ST42BcHw4Gfn"
      },
      "execution_count": null,
      "outputs": []
    }
  ]
}
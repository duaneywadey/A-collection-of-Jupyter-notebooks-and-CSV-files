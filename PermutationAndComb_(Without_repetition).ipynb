{
  "nbformat": 4,
  "nbformat_minor": 0,
  "metadata": {
    "colab": {
      "provenance": [],
      "authorship_tag": "ABX9TyPok4zZSifm+z+k4jjYvxAD",
      "include_colab_link": true
    },
    "kernelspec": {
      "name": "python3",
      "display_name": "Python 3"
    },
    "language_info": {
      "name": "python"
    }
  },
  "cells": [
    {
      "cell_type": "markdown",
      "metadata": {
        "id": "view-in-github",
        "colab_type": "text"
      },
      "source": [
        "<a href=\"https://colab.research.google.com/github/duaneywadey/A-collection-of-Jupyter-notebooks-and-CSV-files/blob/data-structures-and-algorithms-review/PermutationAndComb_(Without_repetition).ipynb\" target=\"_parent\"><img src=\"https://colab.research.google.com/assets/colab-badge.svg\" alt=\"Open In Colab\"/></a>"
      ]
    },
    {
      "cell_type": "code",
      "source": [
        "from itertools import permutations\n",
        "# list of numbers\n",
        "word = 'City'\n",
        "list1 = list(word)\n",
        "listsss = (list(permutations(list1)))\n",
        "\n",
        "for p in listsss:\n",
        "  print(p)\n",
        "print(\"\\n\\n-----------------------------------\\n\\nNumber of permutations possible: \", len(listsss))\n",
        "\n"
      ],
      "metadata": {
        "id": "VXWaY1J-h5sY",
        "colab": {
          "base_uri": "https://localhost:8080/"
        },
        "outputId": "d3bf737b-6734-4b55-a319-9d41473b0eba"
      },
      "execution_count": 24,
      "outputs": [
        {
          "output_type": "stream",
          "name": "stdout",
          "text": [
            "('C', 'i', 't', 'y')\n",
            "('C', 'i', 'y', 't')\n",
            "('C', 't', 'i', 'y')\n",
            "('C', 't', 'y', 'i')\n",
            "('C', 'y', 'i', 't')\n",
            "('C', 'y', 't', 'i')\n",
            "('i', 'C', 't', 'y')\n",
            "('i', 'C', 'y', 't')\n",
            "('i', 't', 'C', 'y')\n",
            "('i', 't', 'y', 'C')\n",
            "('i', 'y', 'C', 't')\n",
            "('i', 'y', 't', 'C')\n",
            "('t', 'C', 'i', 'y')\n",
            "('t', 'C', 'y', 'i')\n",
            "('t', 'i', 'C', 'y')\n",
            "('t', 'i', 'y', 'C')\n",
            "('t', 'y', 'C', 'i')\n",
            "('t', 'y', 'i', 'C')\n",
            "('y', 'C', 'i', 't')\n",
            "('y', 'C', 't', 'i')\n",
            "('y', 'i', 'C', 't')\n",
            "('y', 'i', 't', 'C')\n",
            "('y', 't', 'C', 'i')\n",
            "('y', 't', 'i', 'C')\n",
            "\n",
            "\n",
            "-----------------------------------\n",
            "\n",
            "Number of permutations possible:  24\n"
          ]
        }
      ]
    },
    {
      "cell_type": "code",
      "source": [
        "from itertools import combinations\n",
        "# list of numbers\n",
        "word = 'Duane'\n",
        "list1 = list(word)\n",
        "listsss = (list(combinations(list1, len(list1))))\n",
        "\n",
        "for p in listsss:\n",
        "  print(p)\n",
        "print(\"\\n\\n-----------------------------------\\n\\nNumber of combinations possible: \", len(listsss))\n",
        "\n"
      ],
      "metadata": {
        "colab": {
          "base_uri": "https://localhost:8080/"
        },
        "id": "Z2kIP5hviV6_",
        "outputId": "d89c404f-ae0e-46d9-bab5-7953f3f58e33"
      },
      "execution_count": 22,
      "outputs": [
        {
          "output_type": "stream",
          "name": "stdout",
          "text": [
            "('D', 'u', 'a', 'n', 'e')\n",
            "\n",
            "\n",
            "-----------------------------------\n",
            "\n",
            "Number of combinations possible:  1\n"
          ]
        }
      ]
    },
    {
      "cell_type": "code",
      "source": [],
      "metadata": {
        "id": "kcYF4k9yoGuE"
      },
      "execution_count": null,
      "outputs": []
    }
  ]
}
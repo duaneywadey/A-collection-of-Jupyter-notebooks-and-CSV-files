{
  "nbformat": 4,
  "nbformat_minor": 0,
  "metadata": {
    "colab": {
      "name": "NumpyBasics.ipynb",
      "provenance": [],
      "authorship_tag": "ABX9TyPb2z1XQBlaysg7sGBFMD1N",
      "include_colab_link": true
    },
    "kernelspec": {
      "name": "python3",
      "display_name": "Python 3"
    },
    "language_info": {
      "name": "python"
    }
  },
  "cells": [
    {
      "cell_type": "markdown",
      "metadata": {
        "id": "view-in-github",
        "colab_type": "text"
      },
      "source": [
        "<a href=\"https://colab.research.google.com/github/duaneywadey/colab/blob/main/NumpyBasics.ipynb\" target=\"_parent\"><img src=\"https://colab.research.google.com/assets/colab-badge.svg\" alt=\"Open In Colab\"/></a>"
      ]
    },
    {
      "cell_type": "code",
      "execution_count": null,
      "metadata": {
        "colab": {
          "base_uri": "https://localhost:8080/"
        },
        "id": "6B-nI1-3Tov_",
        "outputId": "8fe19fa7-13f1-497a-90d5-c07757b2e3eb"
      },
      "outputs": [
        {
          "output_type": "stream",
          "name": "stdout",
          "text": [
            "120\n"
          ]
        }
      ],
      "source": [
        "def factorialNum(num):\n",
        "  factorial = 1  \n",
        "  for i in range(1, num+1):\n",
        "    factorial = factorial * i\n",
        "  return factorial\n",
        "\n",
        "\n",
        "  \n",
        "\n",
        "print(factorialNum(5))"
      ]
    },
    {
      "cell_type": "code",
      "source": [
        "import numpy as np\n"
      ],
      "metadata": {
        "id": "XuiO97RgUepx"
      },
      "execution_count": null,
      "outputs": []
    },
    {
      "cell_type": "code",
      "source": [
        "from time import process_time"
      ],
      "metadata": {
        "id": "wI6UOf-5ZvRi"
      },
      "execution_count": null,
      "outputs": []
    },
    {
      "cell_type": "code",
      "source": [
        "from time import process_time\n",
        "\n",
        "python_list = [i for i in range(1000)]\n",
        "\n",
        "start_time = process_time()\n",
        "\n",
        "python_list = [i+5 for i in python_list]\n",
        "\n",
        "end_time = process_time()\n",
        "\n",
        "print(end_time - start_time)"
      ],
      "metadata": {
        "colab": {
          "base_uri": "https://localhost:8080/"
        },
        "id": "I-9pv5r9Z9_w",
        "outputId": "02843911-e2a9-42fc-c752-6ed9568690a0"
      },
      "execution_count": null,
      "outputs": [
        {
          "output_type": "stream",
          "name": "stdout",
          "text": [
            "0.0002207870000017209\n"
          ]
        }
      ]
    },
    {
      "cell_type": "code",
      "source": [
        "import numpy as np\n",
        "\n",
        "np_array = np.array([i for i in range(10000)])\n",
        "\n",
        "start_time = process_time()"
      ],
      "metadata": {
        "id": "OgB3Zm40a2iN"
      },
      "execution_count": null,
      "outputs": []
    },
    {
      "cell_type": "code",
      "source": [
        "np_array += 5 \n",
        "\n",
        "end_time = process_time()\n",
        "\n",
        "print(end_time - start_time)"
      ],
      "metadata": {
        "colab": {
          "base_uri": "https://localhost:8080/"
        },
        "id": "-jRrUYLGcsFd",
        "outputId": "6ca595e6-84f0-4a2e-a34c-92b64442e839"
      },
      "execution_count": null,
      "outputs": [
        {
          "output_type": "stream",
          "name": "stdout",
          "text": [
            "1.0033876159999977\n"
          ]
        }
      ]
    },
    {
      "cell_type": "code",
      "source": [
        "import numpy as np\n",
        "\n",
        "np_array = np.array([i for i in range(10000)])\n",
        "\n",
        "start_time = process_time()\n",
        "\n",
        "np_array += 5 \n",
        "\n",
        "end_time = process_time()\n",
        "\n",
        "print(end_time - start_time)"
      ],
      "metadata": {
        "colab": {
          "base_uri": "https://localhost:8080/"
        },
        "id": "5RVgIRL_dIMx",
        "outputId": "c3309b7a-6215-4286-e177-242e8dfaffc3"
      },
      "execution_count": null,
      "outputs": [
        {
          "output_type": "stream",
          "name": "stdout",
          "text": [
            "0.00039019700000153534\n"
          ]
        }
      ]
    },
    {
      "cell_type": "code",
      "source": [
        "list1 = [1,2,3,4,5]\n",
        "print(list1)\n",
        "type(list1)"
      ],
      "metadata": {
        "colab": {
          "base_uri": "https://localhost:8080/"
        },
        "id": "wx7lRt-bddHG",
        "outputId": "ce446f01-0fa1-47a0-f728-da2dba0200ef"
      },
      "execution_count": null,
      "outputs": [
        {
          "output_type": "stream",
          "name": "stdout",
          "text": [
            "[1, 2, 3, 4, 5]\n"
          ]
        },
        {
          "output_type": "execute_result",
          "data": {
            "text/plain": [
              "list"
            ]
          },
          "metadata": {},
          "execution_count": 10
        }
      ]
    },
    {
      "cell_type": "code",
      "source": [
        "np_array = np.array([1,2,3,4,5])\n",
        "print(np_array)\n",
        "type(np_array)"
      ],
      "metadata": {
        "colab": {
          "base_uri": "https://localhost:8080/"
        },
        "id": "fwxQc4l5d-QS",
        "outputId": "9debbf21-d924-4360-82d5-5533ca482461"
      },
      "execution_count": null,
      "outputs": [
        {
          "output_type": "stream",
          "name": "stdout",
          "text": [
            "[1 2 3 4 5]\n"
          ]
        },
        {
          "output_type": "execute_result",
          "data": {
            "text/plain": [
              "numpy.ndarray"
            ]
          },
          "metadata": {},
          "execution_count": 11
        }
      ]
    },
    {
      "cell_type": "code",
      "source": [
        "a = np.array([1,2,3,4])\n",
        "print(a)"
      ],
      "metadata": {
        "colab": {
          "base_uri": "https://localhost:8080/"
        },
        "id": "6z1WrWUSeO1H",
        "outputId": "380703af-a54a-4d5f-d087-89f1b56b4fc6"
      },
      "execution_count": null,
      "outputs": [
        {
          "output_type": "stream",
          "name": "stdout",
          "text": [
            "[1 2 3 4]\n"
          ]
        }
      ]
    },
    {
      "cell_type": "code",
      "source": [
        "a.shape"
      ],
      "metadata": {
        "colab": {
          "base_uri": "https://localhost:8080/"
        },
        "id": "PWLWV2E6esrs",
        "outputId": "dd3c1143-7615-495d-da82-ebf471065c89"
      },
      "execution_count": null,
      "outputs": [
        {
          "output_type": "execute_result",
          "data": {
            "text/plain": [
              "(4,)"
            ]
          },
          "metadata": {},
          "execution_count": 13
        }
      ]
    },
    {
      "cell_type": "code",
      "source": [
        "b = np.array([(1,2,3,4), (5,6,7,8)]) "
      ],
      "metadata": {
        "id": "eg_V3lIWewi2"
      },
      "execution_count": null,
      "outputs": []
    },
    {
      "cell_type": "code",
      "source": [
        "print(b)"
      ],
      "metadata": {
        "colab": {
          "base_uri": "https://localhost:8080/"
        },
        "id": "xAjoUIYtfBYU",
        "outputId": "a319078d-bc2d-4470-da9d-90bd80b66e16"
      },
      "execution_count": null,
      "outputs": [
        {
          "output_type": "stream",
          "name": "stdout",
          "text": [
            "[[1 2 3 4]\n",
            " [5 6 7 8]]\n"
          ]
        }
      ]
    },
    {
      "cell_type": "code",
      "source": [
        "type(b)"
      ],
      "metadata": {
        "colab": {
          "base_uri": "https://localhost:8080/"
        },
        "id": "qII2_bwTfCys",
        "outputId": "647ae4cd-32aa-4c04-abd1-188093002e63"
      },
      "execution_count": null,
      "outputs": [
        {
          "output_type": "execute_result",
          "data": {
            "text/plain": [
              "numpy.ndarray"
            ]
          },
          "metadata": {},
          "execution_count": 16
        }
      ]
    },
    {
      "cell_type": "code",
      "source": [
        "b.shape"
      ],
      "metadata": {
        "colab": {
          "base_uri": "https://localhost:8080/"
        },
        "id": "WAEWJFtCfGVU",
        "outputId": "57b1d8fe-9dc7-425b-b136-22dcd2eea919"
      },
      "execution_count": null,
      "outputs": [
        {
          "output_type": "execute_result",
          "data": {
            "text/plain": [
              "(2, 4)"
            ]
          },
          "metadata": {},
          "execution_count": 17
        }
      ]
    },
    {
      "cell_type": "code",
      "source": [
        "c = np.array([(1,2,3,4), (5,6,7,8), (9,10,11,12)])\n",
        "print(c)\n",
        "type(c) "
      ],
      "metadata": {
        "colab": {
          "base_uri": "https://localhost:8080/"
        },
        "id": "6fatmMkVfI78",
        "outputId": "7096f5e3-674f-44b0-ae47-89235be58417"
      },
      "execution_count": null,
      "outputs": [
        {
          "output_type": "stream",
          "name": "stdout",
          "text": [
            "[[ 1  2  3  4]\n",
            " [ 5  6  7  8]\n",
            " [ 9 10 11 12]]\n"
          ]
        },
        {
          "output_type": "execute_result",
          "data": {
            "text/plain": [
              "numpy.ndarray"
            ]
          },
          "metadata": {},
          "execution_count": 23
        }
      ]
    },
    {
      "cell_type": "code",
      "source": [
        "c.shape\n"
      ],
      "metadata": {
        "colab": {
          "base_uri": "https://localhost:8080/"
        },
        "id": "tRjPvurYfeYb",
        "outputId": "4e7272fd-cfb0-44cc-a574-e801a014d2a9"
      },
      "execution_count": null,
      "outputs": [
        {
          "output_type": "execute_result",
          "data": {
            "text/plain": [
              "(3, 4)"
            ]
          },
          "metadata": {},
          "execution_count": 25
        }
      ]
    },
    {
      "cell_type": "code",
      "source": [
        "c = np.array([(1,2,3,4), (5,6,7,8), (9,10,11,12)], dtype=float)\n",
        "print(c)\n",
        "type(c)"
      ],
      "metadata": {
        "colab": {
          "base_uri": "https://localhost:8080/"
        },
        "id": "FBnnG2ybf08y",
        "outputId": "2c862ca8-0f18-4a68-a40a-9f1ce0838db8"
      },
      "execution_count": null,
      "outputs": [
        {
          "output_type": "stream",
          "name": "stdout",
          "text": [
            "[[ 1.  2.  3.  4.]\n",
            " [ 5.  6.  7.  8.]\n",
            " [ 9. 10. 11. 12.]]\n"
          ]
        },
        {
          "output_type": "execute_result",
          "data": {
            "text/plain": [
              "numpy.ndarray"
            ]
          },
          "metadata": {},
          "execution_count": 26
        }
      ]
    },
    {
      "cell_type": "code",
      "source": [
        "import numpy as np\n",
        "\n",
        "x = np.zeros((4,5))\n",
        "print(x)"
      ],
      "metadata": {
        "colab": {
          "base_uri": "https://localhost:8080/"
        },
        "id": "2E08ZWb6gPb-",
        "outputId": "d6167ca6-e656-46dc-efd6-d0d05321de1d"
      },
      "execution_count": null,
      "outputs": [
        {
          "output_type": "stream",
          "name": "stdout",
          "text": [
            "[[0. 0. 0. 0. 0.]\n",
            " [0. 0. 0. 0. 0.]\n",
            " [0. 0. 0. 0. 0.]\n",
            " [0. 0. 0. 0. 0.]]\n"
          ]
        }
      ]
    },
    {
      "cell_type": "code",
      "source": [
        "\n",
        "y = np.zeros((3,3))\n",
        "print(y)"
      ],
      "metadata": {
        "colab": {
          "base_uri": "https://localhost:8080/"
        },
        "id": "nE6kANRlgwup",
        "outputId": "e7334031-904d-476a-e2a8-1e0c4095a4ed"
      },
      "execution_count": null,
      "outputs": [
        {
          "output_type": "stream",
          "name": "stdout",
          "text": [
            "[[0. 0. 0.]\n",
            " [0. 0. 0.]\n",
            " [0. 0. 0.]]\n"
          ]
        }
      ]
    },
    {
      "cell_type": "code",
      "source": [
        "z = np.full((5,4),8)\n",
        "print(z)\n"
      ],
      "metadata": {
        "colab": {
          "base_uri": "https://localhost:8080/"
        },
        "id": "yqaLn3QFhGmp",
        "outputId": "628bec50-a355-4936-8dd0-7547121bb64f"
      },
      "execution_count": null,
      "outputs": [
        {
          "output_type": "stream",
          "name": "stdout",
          "text": [
            "[[8 8 8 8]\n",
            " [8 8 8 8]\n",
            " [8 8 8 8]\n",
            " [8 8 8 8]\n",
            " [8 8 8 8]]\n"
          ]
        }
      ]
    },
    {
      "cell_type": "code",
      "source": [
        "a = np.eye(5)\n",
        "print(a)"
      ],
      "metadata": {
        "colab": {
          "base_uri": "https://localhost:8080/"
        },
        "id": "XpWh3Xyyhyrk",
        "outputId": "df69ef95-728f-4cd7-af10-d7e9362cd9b6"
      },
      "execution_count": null,
      "outputs": [
        {
          "output_type": "stream",
          "name": "stdout",
          "text": [
            "[[1. 0. 0. 0. 0.]\n",
            " [0. 1. 0. 0. 0.]\n",
            " [0. 0. 1. 0. 0.]\n",
            " [0. 0. 0. 1. 0.]\n",
            " [0. 0. 0. 0. 1.]]\n"
          ]
        }
      ]
    },
    {
      "cell_type": "code",
      "source": [
        "f = np.random.random((3,4))\n",
        "print(f)\n",
        "\n"
      ],
      "metadata": {
        "colab": {
          "base_uri": "https://localhost:8080/"
        },
        "id": "LHPFf2LriDK_",
        "outputId": "ab547d37-c9a0-4ad5-c0aa-c9120cb503f6"
      },
      "execution_count": null,
      "outputs": [
        {
          "output_type": "stream",
          "name": "stdout",
          "text": [
            "[[0.43309458 0.41298297 0.26192689 0.31540944]\n",
            " [0.03175884 0.38306853 0.36235041 0.00765891]\n",
            " [0.04100892 0.98431478 0.82318002 0.8066759 ]]\n"
          ]
        }
      ]
    },
    {
      "cell_type": "code",
      "source": [
        "import random\n",
        "g = np.random.randint(10,1000,(3,5))\n",
        "print(g)\n"
      ],
      "metadata": {
        "colab": {
          "base_uri": "https://localhost:8080/"
        },
        "id": "VcJzjLCGisjB",
        "outputId": "46869154-e368-4d34-e566-99fb8f4b64aa"
      },
      "execution_count": null,
      "outputs": [
        {
          "output_type": "stream",
          "name": "stdout",
          "text": [
            "[[252 988 922 549 352]\n",
            " [ 39  54 862 284 244]\n",
            " [270 626 748 986 595]]\n"
          ]
        }
      ]
    },
    {
      "cell_type": "code",
      "source": [
        "import random\n",
        "import numpy as np\n",
        "\n",
        "g = np.random.randint(10,10000,(3,5))\n",
        "print(g)"
      ],
      "metadata": {
        "id": "41zmLV3FjMVX",
        "colab": {
          "base_uri": "https://localhost:8080/"
        },
        "outputId": "8509c813-abce-46a6-ae6a-99ae428ee012"
      },
      "execution_count": null,
      "outputs": [
        {
          "output_type": "stream",
          "name": "stdout",
          "text": [
            "[[4309 4489 5044 2826  396]\n",
            " [2905 6141 8955 2756 5048]\n",
            " [7292 1264 7964 8958 9890]]\n"
          ]
        }
      ]
    },
    {
      "cell_type": "code",
      "source": [
        "print(g)"
      ],
      "metadata": {
        "colab": {
          "base_uri": "https://localhost:8080/"
        },
        "id": "VhZZlKggwZUI",
        "outputId": "f386b877-17e2-4f9e-af54-e605f9150efa"
      },
      "execution_count": null,
      "outputs": [
        {
          "output_type": "stream",
          "name": "stdout",
          "text": [
            "[[4309 4489 5044 2826  396]\n",
            " [2905 6141 8955 2756 5048]\n",
            " [7292 1264 7964 8958 9890]]\n"
          ]
        }
      ]
    },
    {
      "cell_type": "code",
      "source": [
        "for x in range(1,5):\n",
        "  print(g)"
      ],
      "metadata": {
        "colab": {
          "base_uri": "https://localhost:8080/"
        },
        "id": "sVJTUIaywmuZ",
        "outputId": "6644a316-e2de-4e74-9ed4-7172206d55d8"
      },
      "execution_count": null,
      "outputs": [
        {
          "output_type": "stream",
          "name": "stdout",
          "text": [
            "[[4309 4489 5044 2826  396]\n",
            " [2905 6141 8955 2756 5048]\n",
            " [7292 1264 7964 8958 9890]]\n",
            "[[4309 4489 5044 2826  396]\n",
            " [2905 6141 8955 2756 5048]\n",
            " [7292 1264 7964 8958 9890]]\n",
            "[[4309 4489 5044 2826  396]\n",
            " [2905 6141 8955 2756 5048]\n",
            " [7292 1264 7964 8958 9890]]\n",
            "[[4309 4489 5044 2826  396]\n",
            " [2905 6141 8955 2756 5048]\n",
            " [7292 1264 7964 8958 9890]]\n"
          ]
        }
      ]
    },
    {
      "cell_type": "code",
      "source": [
        "for x in range(1,5):\n",
        "  g = np.random.randint(10,10000,(3,5))\n",
        "  print(g)\n",
        "  "
      ],
      "metadata": {
        "colab": {
          "base_uri": "https://localhost:8080/"
        },
        "id": "Jf4qNRSWwwdE",
        "outputId": "ace8fe9e-e74e-4bfa-d875-15a30bc2e56b"
      },
      "execution_count": null,
      "outputs": [
        {
          "output_type": "stream",
          "name": "stdout",
          "text": [
            "[[1929 3547 1401 4197 1233]\n",
            " [6760 1201 5252 2547 4885]\n",
            " [4332 3607 9704 7843 7019]]\n",
            "[[3150 8863 6404 1995 4077]\n",
            " [9638  356 4410 8509 5022]\n",
            " [9049 2847 4603 9710 8814]]\n",
            "[[3498 5338 9083 6048 2324]\n",
            " [8064 7804 2814 6641 9072]\n",
            " [1087 9809 1927 4395 1160]]\n",
            "[[4870 9773 5865 4100 3697]\n",
            " [ 861  756 3430 4174 1730]\n",
            " [ 346  235  353 2627 4826]]\n"
          ]
        }
      ]
    },
    {
      "cell_type": "code",
      "source": [
        "c = np.array([(1,2,3,4), (5,6,7,8), (9,10,11,12)])\n",
        "print(c)\n",
        "type(c) "
      ],
      "metadata": {
        "colab": {
          "base_uri": "https://localhost:8080/"
        },
        "id": "1uS7qoY4w74v",
        "outputId": "05fe9ba2-8f86-4764-bbcc-4e188c3acbf7"
      },
      "execution_count": null,
      "outputs": [
        {
          "output_type": "stream",
          "name": "stdout",
          "text": [
            "[[ 1  2  3  4]\n",
            " [ 5  6  7  8]\n",
            " [ 9 10 11 12]]\n"
          ]
        },
        {
          "output_type": "execute_result",
          "data": {
            "text/plain": [
              "numpy.ndarray"
            ]
          },
          "metadata": {},
          "execution_count": 6
        }
      ]
    },
    {
      "cell_type": "code",
      "source": [
        "d = np.linspace(10,30,6)\n",
        "print(d)"
      ],
      "metadata": {
        "colab": {
          "base_uri": "https://localhost:8080/"
        },
        "id": "ezz1TPYuzTP3",
        "outputId": "0af21c58-9e99-4e5c-f953-d620aa023d2d"
      },
      "execution_count": null,
      "outputs": [
        {
          "output_type": "stream",
          "name": "stdout",
          "text": [
            "[10. 14. 18. 22. 26. 30.]\n"
          ]
        }
      ]
    },
    {
      "cell_type": "code",
      "source": [
        "e = np.arange(10,30,5)\n",
        "print(e)"
      ],
      "metadata": {
        "colab": {
          "base_uri": "https://localhost:8080/"
        },
        "id": "qoj72ccLzpnl",
        "outputId": "f1560085-f1db-4b2d-d131-420ecb465fac"
      },
      "execution_count": null,
      "outputs": [
        {
          "output_type": "stream",
          "name": "stdout",
          "text": [
            "[10 15 20 25]\n"
          ]
        }
      ]
    },
    {
      "cell_type": "code",
      "source": [
        "d = np.arange(10,40,8)\n",
        "print(d)"
      ],
      "metadata": {
        "colab": {
          "base_uri": "https://localhost:8080/"
        },
        "id": "wbiZ2WW70DgH",
        "outputId": "6129fc14-a5ce-4720-d1a1-67113d34ce70"
      },
      "execution_count": null,
      "outputs": [
        {
          "output_type": "stream",
          "name": "stdout",
          "text": [
            "[10 18 26 34]\n"
          ]
        }
      ]
    },
    {
      "cell_type": "code",
      "source": [
        "#Convert an array to numpy array\n",
        "\n",
        "list2 = [10,20,20,20,50]\n",
        "np_array = np.asarray(list2)\n",
        "print(np_array)\n",
        "type(np_array)\n"
      ],
      "metadata": {
        "colab": {
          "base_uri": "https://localhost:8080/"
        },
        "id": "yQsWQTfL0V2V",
        "outputId": "538d2b8a-7b6b-40c1-ed83-62e377a54e1a"
      },
      "execution_count": null,
      "outputs": [
        {
          "output_type": "stream",
          "name": "stdout",
          "text": [
            "[10 20 20 20 50]\n"
          ]
        },
        {
          "output_type": "execute_result",
          "data": {
            "text/plain": [
              "numpy.ndarray"
            ]
          },
          "metadata": {},
          "execution_count": 16
        }
      ]
    },
    {
      "cell_type": "code",
      "source": [
        "c = np.random.randint(10,90,(10,3))\n",
        "print(c)"
      ],
      "metadata": {
        "colab": {
          "base_uri": "https://localhost:8080/"
        },
        "id": "oBKQv2W72FEf",
        "outputId": "f80e4e25-9304-4e49-da91-e4a0c8e59a4f"
      },
      "execution_count": null,
      "outputs": [
        {
          "output_type": "stream",
          "name": "stdout",
          "text": [
            "[[38 28 81]\n",
            " [21 43 30]\n",
            " [35 61 88]\n",
            " [38 66 21]\n",
            " [79 33 14]\n",
            " [14 22 53]\n",
            " [31 34 50]\n",
            " [75 46 36]\n",
            " [14 46 29]\n",
            " [41 53 21]]\n"
          ]
        }
      ]
    },
    {
      "cell_type": "code",
      "source": [
        "#10 rows, 3 columns\n",
        "print(c.shape)\n"
      ],
      "metadata": {
        "colab": {
          "base_uri": "https://localhost:8080/"
        },
        "id": "PeoNnUcz2asr",
        "outputId": "ad0cdbc9-0c6c-41ad-edcc-237894cceec7"
      },
      "execution_count": null,
      "outputs": [
        {
          "output_type": "stream",
          "name": "stdout",
          "text": [
            "(10, 3)\n"
          ]
        }
      ]
    },
    {
      "cell_type": "code",
      "source": [
        "#Dimensions\n",
        "print(c.ndim)"
      ],
      "metadata": {
        "colab": {
          "base_uri": "https://localhost:8080/"
        },
        "id": "bKHWAUSj2pE_",
        "outputId": "3413e4ae-fc89-445b-c12a-7c95e8b7a8fd"
      },
      "execution_count": null,
      "outputs": [
        {
          "output_type": "stream",
          "name": "stdout",
          "text": [
            "2\n"
          ]
        }
      ]
    },
    {
      "cell_type": "code",
      "source": [
        "#Number of elements in an array\n",
        "print(c.size)"
      ],
      "metadata": {
        "colab": {
          "base_uri": "https://localhost:8080/"
        },
        "id": "KJa-sL5z3H-o",
        "outputId": "01def1bb-bb0d-4f0e-f7e3-88777c3c96c8"
      },
      "execution_count": null,
      "outputs": [
        {
          "output_type": "stream",
          "name": "stdout",
          "text": [
            "30\n"
          ]
        }
      ]
    },
    {
      "cell_type": "code",
      "source": [
        "#Check the data type of the values in an array\n",
        "print(c.dtype)"
      ],
      "metadata": {
        "colab": {
          "base_uri": "https://localhost:8080/"
        },
        "id": "nR1kT6s63S_M",
        "outputId": "01c73861-a84a-4441-e486-a2b905e3d7d3"
      },
      "execution_count": null,
      "outputs": [
        {
          "output_type": "stream",
          "name": "stdout",
          "text": [
            "int64\n"
          ]
        }
      ]
    },
    {
      "cell_type": "code",
      "source": [
        "list1 = [1,2,3,4,5]\n",
        "list2 = [6,7,8,9,10]\n",
        "\n",
        "print(list1 + list2)"
      ],
      "metadata": {
        "colab": {
          "base_uri": "https://localhost:8080/"
        },
        "id": "xR-SUs5r3f1h",
        "outputId": "31249b0c-8c20-4b3f-d579-c92548aaf652"
      },
      "execution_count": null,
      "outputs": [
        {
          "output_type": "stream",
          "name": "stdout",
          "text": [
            "[1, 2, 3, 4, 5, 6, 7, 8, 9, 10]\n"
          ]
        }
      ]
    },
    {
      "cell_type": "code",
      "source": [
        "np_array = np.asarray(list2)\n",
        "print(np_array)"
      ],
      "metadata": {
        "colab": {
          "base_uri": "https://localhost:8080/"
        },
        "id": "WPDqhoGe4Csk",
        "outputId": "14850ff4-8db1-455a-f089-350f175917a2"
      },
      "execution_count": null,
      "outputs": [
        {
          "output_type": "stream",
          "name": "stdout",
          "text": [
            "[ 6  7  8  9 10]\n"
          ]
        }
      ]
    },
    {
      "cell_type": "code",
      "source": [
        "list3 = list1 + list2\n",
        "np_array = np.asarray(list3)\n",
        "print(np_array)\n"
      ],
      "metadata": {
        "colab": {
          "base_uri": "https://localhost:8080/"
        },
        "id": "KovCRfLw4M8t",
        "outputId": "b83faced-6b5f-432f-9924-c375896b09c2"
      },
      "execution_count": null,
      "outputs": [
        {
          "output_type": "stream",
          "name": "stdout",
          "text": [
            "[ 1  2  3  4  5  6  7  8  9 10]\n"
          ]
        }
      ]
    },
    {
      "cell_type": "code",
      "source": [
        "a = np.random.randint(0,10,(4,5))\n",
        "b = np.random.randint(10,20,(4,5))\n",
        "print(a)\n",
        "print(b)"
      ],
      "metadata": {
        "colab": {
          "base_uri": "https://localhost:8080/"
        },
        "id": "R556X4eB4U0o",
        "outputId": "bd406712-ee22-4bc1-b243-3f8fbbb39757"
      },
      "execution_count": null,
      "outputs": [
        {
          "output_type": "stream",
          "name": "stdout",
          "text": [
            "[[1 5 0 4 8]\n",
            " [9 2 0 8 8]\n",
            " [3 6 7 1 1]\n",
            " [3 7 6 6 2]]\n",
            "[[16 15 15 11 17]\n",
            " [17 14 16 15 12]\n",
            " [12 17 18 10 15]\n",
            " [10 12 12 15 19]]\n"
          ]
        }
      ]
    },
    {
      "cell_type": "code",
      "source": [
        "a = np.random.randint(0,10,(4,5))\n",
        "b = np.random.randint(10,20,(4,5))\n",
        "\n",
        "print(a+b)\n",
        "print(a-b)\n",
        "print(a/b)\n",
        "print(a*b)"
      ],
      "metadata": {
        "colab": {
          "base_uri": "https://localhost:8080/"
        },
        "id": "8FE7p_gg44AD",
        "outputId": "bf65f0c9-f1a3-403e-a46f-329319d77581"
      },
      "execution_count": null,
      "outputs": [
        {
          "output_type": "stream",
          "name": "stdout",
          "text": [
            "[[23 22 22 22 16]\n",
            " [19 11 19 21 15]\n",
            " [18 23 15 25 17]\n",
            " [20 22 19 17 17]]\n",
            "[[-13 -12  -8  -4  -8]\n",
            " [-13 -11 -11 -13 -15]\n",
            " [-12 -11 -11 -11  -3]\n",
            " [ -6 -10 -15  -7  -5]]\n",
            "[[0.27777778 0.29411765 0.46666667 0.69230769 0.33333333]\n",
            " [0.1875     0.         0.26666667 0.23529412 0.        ]\n",
            " [0.2        0.35294118 0.15384615 0.38888889 0.7       ]\n",
            " [0.53846154 0.375      0.11764706 0.41666667 0.54545455]]\n",
            "[[ 90  85 105 117  48]\n",
            " [ 48   0  60  68   0]\n",
            " [ 45 102  26 126  70]\n",
            " [ 91  96  34  60  66]]\n"
          ]
        }
      ]
    },
    {
      "cell_type": "code",
      "source": [
        "print(a)\n",
        "print(b)"
      ],
      "metadata": {
        "colab": {
          "base_uri": "https://localhost:8080/"
        },
        "id": "jYFWjTdW5hBh",
        "outputId": "e5d88998-3b69-4d22-e029-bbfc9fb24eb6"
      },
      "execution_count": null,
      "outputs": [
        {
          "output_type": "stream",
          "name": "stdout",
          "text": [
            "[[5 5 7 9 4]\n",
            " [3 0 4 4 0]\n",
            " [3 6 2 7 7]\n",
            " [7 6 2 5 6]]\n",
            "[[18 17 15 13 12]\n",
            " [16 11 15 17 15]\n",
            " [15 17 13 18 10]\n",
            " [13 16 17 12 11]]\n"
          ]
        }
      ]
    },
    {
      "cell_type": "code",
      "source": [
        "print(a)\n",
        "print(b)\n",
        "\n",
        "print(\"ADDITION\")\n",
        "print(np.add(a,b))\n",
        "print(\"SUBSTRACTION\")\n",
        "print(np.subtract(a,b))\n",
        "print(\"MULTIPLICATION\")\n",
        "print(np.multiply(a,b))"
      ],
      "metadata": {
        "colab": {
          "base_uri": "https://localhost:8080/"
        },
        "id": "UHjomU0l6TKJ",
        "outputId": "7d1449be-2cc0-40e3-b82e-917d118a1489"
      },
      "execution_count": null,
      "outputs": [
        {
          "output_type": "stream",
          "name": "stdout",
          "text": [
            "[[5 5 7 9 4]\n",
            " [3 0 4 4 0]\n",
            " [3 6 2 7 7]\n",
            " [7 6 2 5 6]]\n",
            "[[18 17 15 13 12]\n",
            " [16 11 15 17 15]\n",
            " [15 17 13 18 10]\n",
            " [13 16 17 12 11]]\n",
            "ADDITION\n",
            "[[23 22 22 22 16]\n",
            " [19 11 19 21 15]\n",
            " [18 23 15 25 17]\n",
            " [20 22 19 17 17]]\n",
            "SUBSTRACTION\n",
            "[[-13 -12  -8  -4  -8]\n",
            " [-13 -11 -11 -13 -15]\n",
            " [-12 -11 -11 -11  -3]\n",
            " [ -6 -10 -15  -7  -5]]\n",
            "MULTIPLICATION\n",
            "[[ 90  85 105 117  48]\n",
            " [ 48   0  60  68   0]\n",
            " [ 45 102  26 126  70]\n",
            " [ 91  96  34  60  66]]\n"
          ]
        }
      ]
    },
    {
      "cell_type": "code",
      "source": [
        "array = np.random.randint(1,10,(3,5))\n",
        "print(array)"
      ],
      "metadata": {
        "colab": {
          "base_uri": "https://localhost:8080/"
        },
        "id": "EeSoBYPv6awx",
        "outputId": "5a550828-2ae1-442f-fbbb-65bc8d997cec"
      },
      "execution_count": null,
      "outputs": [
        {
          "output_type": "stream",
          "name": "stdout",
          "text": [
            "[[9 3 1 2 4]\n",
            " [9 7 2 9 3]\n",
            " [4 1 4 7 4]]\n"
          ]
        }
      ]
    },
    {
      "cell_type": "code",
      "source": [
        "print(array.shape)"
      ],
      "metadata": {
        "colab": {
          "base_uri": "https://localhost:8080/"
        },
        "id": "MtJLLZ879PX4",
        "outputId": "6e16ed52-8ced-4276-d583-b04facb51f4d"
      },
      "execution_count": null,
      "outputs": [
        {
          "output_type": "stream",
          "name": "stdout",
          "text": [
            "(3, 5)\n"
          ]
        }
      ]
    },
    {
      "cell_type": "code",
      "source": [
        "trans = np.transpose(array)\n",
        "print(trans)\n",
        "print(trans.shape)"
      ],
      "metadata": {
        "colab": {
          "base_uri": "https://localhost:8080/"
        },
        "id": "m660vvOJ9ZAv",
        "outputId": "398b6a3b-7255-4588-c2a7-85dee11e1da4"
      },
      "execution_count": null,
      "outputs": [
        {
          "output_type": "stream",
          "name": "stdout",
          "text": [
            "[[9 9 4]\n",
            " [3 7 1]\n",
            " [1 2 4]\n",
            " [2 9 7]\n",
            " [4 3 4]]\n",
            "(5, 3)\n"
          ]
        }
      ]
    },
    {
      "cell_type": "code",
      "source": [
        "import numpy as np"
      ],
      "metadata": {
        "id": "Hmf-cjMW9p-5"
      },
      "execution_count": null,
      "outputs": []
    },
    {
      "cell_type": "code",
      "source": [
        "array = np.random.randint(1,10,(3,5))\n",
        "print(array)"
      ],
      "metadata": {
        "colab": {
          "base_uri": "https://localhost:8080/"
        },
        "id": "-F0Z4QXhYx-r",
        "outputId": "583c14a6-145f-48de-b21e-ac4d890b80c1"
      },
      "execution_count": null,
      "outputs": [
        {
          "output_type": "stream",
          "name": "stdout",
          "text": [
            "[[5 7 6 2 2]\n",
            " [1 6 6 1 2]\n",
            " [9 5 4 1 8]]\n"
          ]
        }
      ]
    },
    {
      "cell_type": "code",
      "source": [
        "array = np.random.randint(100,1000, (5,7))\n",
        "print(array)"
      ],
      "metadata": {
        "colab": {
          "base_uri": "https://localhost:8080/"
        },
        "id": "8slHfzGQZSUE",
        "outputId": "455d4fef-3fc0-4590-ef2f-214ddd3842e7"
      },
      "execution_count": null,
      "outputs": [
        {
          "output_type": "stream",
          "name": "stdout",
          "text": [
            "[[505 357 191 312 887 597 982]\n",
            " [843 123 854 697 454 469 209]\n",
            " [157 511 502 458 507 697 239]\n",
            " [413 217 553 203 567 228 848]\n",
            " [932 342 953 763 743 649 134]]\n"
          ]
        }
      ]
    },
    {
      "cell_type": "code",
      "source": [
        ""
      ],
      "metadata": {
        "id": "L7c-aJSAcIWc"
      },
      "execution_count": null,
      "outputs": []
    }
  ]
}
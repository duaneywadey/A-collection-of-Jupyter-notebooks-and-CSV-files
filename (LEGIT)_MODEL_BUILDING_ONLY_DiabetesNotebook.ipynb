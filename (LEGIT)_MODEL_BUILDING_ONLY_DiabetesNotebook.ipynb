{
  "nbformat": 4,
  "nbformat_minor": 0,
  "metadata": {
    "colab": {
      "provenance": [],
      "authorship_tag": "ABX9TyPSyN6+Fdi1q4YY3g11GgnJ",
      "include_colab_link": true
    },
    "kernelspec": {
      "name": "python3",
      "display_name": "Python 3"
    },
    "language_info": {
      "name": "python"
    }
  },
  "cells": [
    {
      "cell_type": "markdown",
      "metadata": {
        "id": "view-in-github",
        "colab_type": "text"
      },
      "source": [
        "<a href=\"https://colab.research.google.com/github/duaneywadey/A-collection-of-Jupyter-notebooks-and-CSV-files/blob/collection-of-models/(LEGIT)_MODEL_BUILDING_ONLY_DiabetesNotebook.ipynb\" target=\"_parent\"><img src=\"https://colab.research.google.com/assets/colab-badge.svg\" alt=\"Open In Colab\"/></a>"
      ]
    },
    {
      "cell_type": "code",
      "execution_count": null,
      "metadata": {
        "id": "mXw0BcYgv_kh"
      },
      "outputs": [],
      "source": [
        "# Importing essential libraries\n",
        "import numpy as np\n",
        "import pandas as pd\n",
        "import matplotlib.pyplot as plt\n",
        "import pickle\n",
        "import seaborn as sns\n",
        "\n",
        "# Loading the dataset\n",
        "df = pd.read_csv('https://raw.githubusercontent.com/duaneywadey/Diabetes-Detection-Model/master/diabetes.csv')\n",
        "\n",
        "# Renaming DiabetesPedigreeFunction as DPF\n",
        "df = df.rename(columns={'DiabetesPedigreeFunction':'DPF'})\n",
        "\n"
      ]
    },
    {
      "cell_type": "code",
      "source": [
        "# Handling columns with zeroes\n",
        "\n",
        "features = df.columns\n",
        "cols = (df[features] == 0).sum()\n",
        "print(cols)"
      ],
      "metadata": {
        "colab": {
          "base_uri": "https://localhost:8080/"
        },
        "id": "f5DuxXOHncgB",
        "outputId": "d7913d78-1736-4328-de8a-f85c0ed31346"
      },
      "execution_count": null,
      "outputs": [
        {
          "output_type": "stream",
          "name": "stdout",
          "text": [
            "Pregnancies      111\n",
            "Glucose            5\n",
            "BloodPressure     35\n",
            "SkinThickness    227\n",
            "Insulin          374\n",
            "BMI               11\n",
            "DPF                0\n",
            "Age                0\n",
            "Outcome          500\n",
            "dtype: int64\n"
          ]
        }
      ]
    },
    {
      "cell_type": "code",
      "source": [
        "# Replacing zeroes with NaN except for no. of pregnancies and outcome\n",
        "\n",
        "df[['Glucose','BloodPressure','SkinThickness','Insulin','BMI']] = df[['Glucose','BloodPressure','SkinThickness','Insulin','BMI']].replace(0,np.NaN)"
      ],
      "metadata": {
        "id": "2kllmPffndrT"
      },
      "execution_count": null,
      "outputs": []
    },
    {
      "cell_type": "code",
      "source": [
        "#Replace the null values with the median of that column:\n",
        "\n",
        "df['Glucose'].fillna(df['Glucose'].median(), inplace =True)\n",
        "\n",
        "df['BloodPressure'].fillna(df['BloodPressure'].median(), inplace =True)\n",
        "\n",
        "df['BMI'].fillna(df['BMI'].median(), inplace =True)\n",
        "\n",
        "df['Insulin'].fillna(df['Insulin'].median(), inplace =True)\n",
        "\n",
        "df['SkinThickness'].fillna(df['SkinThickness'].median(), inplace =True)\n"
      ],
      "metadata": {
        "id": "O393vpPTnhQW"
      },
      "execution_count": null,
      "outputs": []
    },
    {
      "cell_type": "code",
      "source": [
        "# Model Building\n",
        "from sklearn.model_selection import train_test_split\n",
        "X = df.drop(columns='Outcome')\n",
        "y = df['Outcome']\n",
        "X_train, X_test, y_train, y_test = train_test_split(X, y, test_size=0.20, random_state=0)"
      ],
      "metadata": {
        "id": "Rez9z1ZJd4eB"
      },
      "execution_count": null,
      "outputs": []
    },
    {
      "cell_type": "code",
      "source": [
        "# Creating Random Forest Model\n",
        "from sklearn.ensemble import RandomForestClassifier\n",
        "classifier = RandomForestClassifier(n_estimators=10)\n",
        "\n",
        "# Logistic Regression Algorithm\n",
        "from sklearn.linear_model import LogisticRegression\n",
        "logreg = LogisticRegression(random_state = 42)\n",
        "\n",
        "# K nearest neighbors Algorithm\n",
        "from sklearn.neighbors import KNeighborsClassifier\n",
        "knn = KNeighborsClassifier(n_neighbors = 24, metric = 'minkowski', p = 2)\n",
        "\n",
        "# Support Vector Classifier Algorithm\n",
        "from sklearn.svm import SVC\n",
        "svc = SVC(kernel = 'linear', random_state = 42)\n",
        "\n",
        "# Artificial Neural Network\n",
        "from sklearn.neural_network import MLPClassifier\n",
        "nm_model = MLPClassifier(hidden_layer_sizes=(128,128))\n",
        "\n",
        "# Models List\n",
        "models = [classifier, logreg, knn, svc\n",
        "          ]"
      ],
      "metadata": {
        "id": "bQt25Mezd6gC"
      },
      "execution_count": null,
      "outputs": []
    },
    {
      "cell_type": "code",
      "source": [
        "# TRAIN DATA ACCURACY TEST\n",
        "\n",
        "for m in models:\n",
        "  print(\"\\n\",m.fit(X_train, y_train))\n",
        "  print(m.score(X_train, y_train))\n"
      ],
      "metadata": {
        "colab": {
          "base_uri": "https://localhost:8080/"
        },
        "id": "BdlZcNZRcm3H",
        "outputId": "68b4d807-9d69-45e2-9149-eb1ad1426c14"
      },
      "execution_count": null,
      "outputs": [
        {
          "output_type": "stream",
          "name": "stdout",
          "text": [
            "\n",
            " RandomForestClassifier(n_estimators=10)\n",
            "0.9837133550488599\n",
            "\n",
            " LogisticRegression(random_state=42)\n",
            "0.7671009771986971\n",
            "\n",
            " KNeighborsClassifier(n_neighbors=24)\n",
            "0.762214983713355\n"
          ]
        },
        {
          "output_type": "stream",
          "name": "stderr",
          "text": [
            "/usr/local/lib/python3.7/dist-packages/sklearn/linear_model/_logistic.py:818: ConvergenceWarning: lbfgs failed to converge (status=1):\n",
            "STOP: TOTAL NO. of ITERATIONS REACHED LIMIT.\n",
            "\n",
            "Increase the number of iterations (max_iter) or scale the data as shown in:\n",
            "    https://scikit-learn.org/stable/modules/preprocessing.html\n",
            "Please also refer to the documentation for alternative solver options:\n",
            "    https://scikit-learn.org/stable/modules/linear_model.html#logistic-regression\n",
            "  extra_warning_msg=_LOGISTIC_SOLVER_CONVERGENCE_MSG,\n"
          ]
        },
        {
          "output_type": "stream",
          "name": "stdout",
          "text": [
            "\n",
            " SVC(kernel='linear', random_state=42)\n",
            "0.762214983713355\n"
          ]
        }
      ]
    },
    {
      "cell_type": "code",
      "source": [
        "# TEST DATA ACCURACY TEST\n",
        "\n",
        "for m in models:\n",
        "  print(\"\\n\",m.fit(X_test, y_test))\n",
        "  print(m.score(X_test, y_test))"
      ],
      "metadata": {
        "colab": {
          "base_uri": "https://localhost:8080/"
        },
        "id": "MajQVJZPcrOH",
        "outputId": "853d3100-0374-41e1-8efb-04bce0ad311e"
      },
      "execution_count": null,
      "outputs": [
        {
          "output_type": "stream",
          "name": "stdout",
          "text": [
            "\n",
            " RandomForestClassifier(n_estimators=10)\n",
            "0.987012987012987\n",
            "\n",
            " LogisticRegression(random_state=42)\n",
            "0.8311688311688312\n",
            "\n",
            " KNeighborsClassifier(n_neighbors=24)\n",
            "0.7597402597402597\n"
          ]
        },
        {
          "output_type": "stream",
          "name": "stderr",
          "text": [
            "/usr/local/lib/python3.7/dist-packages/sklearn/linear_model/_logistic.py:818: ConvergenceWarning: lbfgs failed to converge (status=1):\n",
            "STOP: TOTAL NO. of ITERATIONS REACHED LIMIT.\n",
            "\n",
            "Increase the number of iterations (max_iter) or scale the data as shown in:\n",
            "    https://scikit-learn.org/stable/modules/preprocessing.html\n",
            "Please also refer to the documentation for alternative solver options:\n",
            "    https://scikit-learn.org/stable/modules/linear_model.html#logistic-regression\n",
            "  extra_warning_msg=_LOGISTIC_SOLVER_CONVERGENCE_MSG,\n"
          ]
        },
        {
          "output_type": "stream",
          "name": "stdout",
          "text": [
            "\n",
            " SVC(kernel='linear', random_state=42)\n",
            "0.8506493506493507\n"
          ]
        }
      ]
    },
    {
      "cell_type": "code",
      "source": [
        "# JOBLIB TEST\n",
        "\n",
        "import joblib\n",
        "\n",
        "print(\"Test Data\")\n",
        "for m in models:\n",
        "  modName = str(m)\n",
        "  joblib.dump(m, modName)\n",
        "  model = joblib.load(str(m))\n",
        "  laptopmodel = model.predict([[0,162,76,56,100,53.2,0.759,25]])\n",
        "  print(str(m), laptopmodel)\n",
        "\n",
        "\n"
      ],
      "metadata": {
        "colab": {
          "base_uri": "https://localhost:8080/"
        },
        "id": "xe3BgYDHPhoi",
        "outputId": "0642a3a6-36a1-4ff3-e04b-a585da1d4e92"
      },
      "execution_count": null,
      "outputs": [
        {
          "output_type": "stream",
          "name": "stdout",
          "text": [
            "Test Data\n",
            "RandomForestClassifier(n_estimators=10) [1]\n",
            "LogisticRegression(random_state=42) [1]\n",
            "KNeighborsClassifier(n_neighbors=24) [1]\n",
            "SVC(kernel='linear', random_state=42) [1]\n"
          ]
        },
        {
          "output_type": "stream",
          "name": "stderr",
          "text": [
            "/usr/local/lib/python3.7/dist-packages/sklearn/base.py:451: UserWarning: X does not have valid feature names, but RandomForestClassifier was fitted with feature names\n",
            "  \"X does not have valid feature names, but\"\n",
            "/usr/local/lib/python3.7/dist-packages/sklearn/base.py:451: UserWarning: X does not have valid feature names, but LogisticRegression was fitted with feature names\n",
            "  \"X does not have valid feature names, but\"\n",
            "/usr/local/lib/python3.7/dist-packages/sklearn/base.py:451: UserWarning: X does not have valid feature names, but KNeighborsClassifier was fitted with feature names\n",
            "  \"X does not have valid feature names, but\"\n",
            "/usr/local/lib/python3.7/dist-packages/sklearn/base.py:451: UserWarning: X does not have valid feature names, but SVC was fitted with feature names\n",
            "  \"X does not have valid feature names, but\"\n"
          ]
        }
      ]
    },
    {
      "cell_type": "code",
      "source": [
        "plt.figure(figsize= (15, 7))\n",
        "sns.heatmap(df.corr(),annot= True)"
      ],
      "metadata": {
        "colab": {
          "base_uri": "https://localhost:8080/",
          "height": 449
        },
        "id": "umWNNucNi87e",
        "outputId": "c48848ab-7965-4f27-b66e-8b6d077a1f7a"
      },
      "execution_count": null,
      "outputs": [
        {
          "output_type": "execute_result",
          "data": {
            "text/plain": [
              "<matplotlib.axes._subplots.AxesSubplot at 0x7fd470916fd0>"
            ]
          },
          "metadata": {},
          "execution_count": 103
        },
        {
          "output_type": "display_data",
          "data": {
            "text/plain": [
              "<Figure size 1080x504 with 2 Axes>"
            ],
            "image/png": "[encoded data removed]"
          },
          "metadata": {
            "needs_background": "light"
          }
        }
      ]
    },
    {
      "cell_type": "code",
      "source": [],
      "metadata": {
        "id": "BOJJ745xm-vi"
      },
      "execution_count": null,
      "outputs": []
    }
  ]
}
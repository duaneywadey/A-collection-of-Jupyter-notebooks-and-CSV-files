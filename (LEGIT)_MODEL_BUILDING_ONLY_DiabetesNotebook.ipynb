{
  "nbformat": 4,
  "nbformat_minor": 0,
  "metadata": {
    "colab": {
      "provenance": [],
      "authorship_tag": "ABX9TyM2pbbErudjRA1MTM5IY3n+",
      "include_colab_link": true
    },
    "kernelspec": {
      "name": "python3",
      "display_name": "Python 3"
    },
    "language_info": {
      "name": "python"
    }
  },
  "cells": [
    {
      "cell_type": "markdown",
      "metadata": {
        "id": "view-in-github",
        "colab_type": "text"
      },
      "source": [
        "<a href=\"https://colab.research.google.com/github/duaneywadey/A-collection-of-Jupyter-notebooks-and-CSV-files/blob/collection-of-models/(LEGIT)_MODEL_BUILDING_ONLY_DiabetesNotebook.ipynb\" target=\"_parent\"><img src=\"https://colab.research.google.com/assets/colab-badge.svg\" alt=\"Open In Colab\"/></a>"
      ]
    },
    {
      "cell_type": "code",
      "execution_count": 219,
      "metadata": {
        "id": "mXw0BcYgv_kh"
      },
      "outputs": [],
      "source": [
        "# Importing essential libraries\n",
        "import numpy as np\n",
        "import pandas as pd\n",
        "import matplotlib.pyplot as plt\n",
        "import pickle\n",
        "import seaborn as sns\n",
        "\n",
        "# Loading the dataset\n",
        "df = pd.read_csv('https://raw.githubusercontent.com/duaneywadey/Diabetes-Detection-Model/master/diabetes.csv')\n",
        "\n",
        "# Renaming DiabetesPedigreeFunction as DPF\n",
        "df = df.rename(columns={'DiabetesPedigreeFunction':'DPF'})\n",
        "\n"
      ]
    },
    {
      "cell_type": "code",
      "source": [
        "# Handling columns with zeroes\n",
        "\n",
        "features = df.columns\n",
        "cols = (df[features] == 0).sum()\n",
        "print(cols)"
      ],
      "metadata": {
        "colab": {
          "base_uri": "https://localhost:8080/"
        },
        "id": "f5DuxXOHncgB",
        "outputId": "fd44a30b-99fe-48ae-8140-19adabba1d14"
      },
      "execution_count": 220,
      "outputs": [
        {
          "output_type": "stream",
          "name": "stdout",
          "text": [
            "Pregnancies      111\n",
            "Glucose            5\n",
            "BloodPressure     35\n",
            "SkinThickness    227\n",
            "Insulin          374\n",
            "BMI               11\n",
            "DPF                0\n",
            "Age                0\n",
            "Outcome          500\n",
            "dtype: int64\n"
          ]
        }
      ]
    },
    {
      "cell_type": "code",
      "source": [
        "# Replacing zeroes with NaN except for no. of pregnancies and outcome\n",
        "\n",
        "df[['Glucose','BloodPressure','SkinThickness','Insulin','BMI']] = df[['Glucose','BloodPressure','SkinThickness','Insulin','BMI']].replace(0,np.NaN)"
      ],
      "metadata": {
        "id": "2kllmPffndrT"
      },
      "execution_count": 221,
      "outputs": []
    },
    {
      "cell_type": "code",
      "source": [
        "#Replace the null values with the median of that column:\n",
        "\n",
        "df['Glucose'].fillna(df['Glucose'].median(), inplace =True)\n",
        "\n",
        "df['BloodPressure'].fillna(df['BloodPressure'].median(), inplace =True)\n",
        "\n",
        "df['BMI'].fillna(df['BMI'].median(), inplace =True)\n"
      ],
      "metadata": {
        "id": "O393vpPTnhQW"
      },
      "execution_count": 222,
      "outputs": []
    },
    {
      "cell_type": "code",
      "source": [
        "# Handling missing Insulin values using Glucose \n",
        "by_Glucose_Age_Insulin_Grp = df.groupby(['Glucose'])\n",
        "def fill_Insulin(series):\n",
        "    return series.fillna(series.median())\n",
        "\n",
        "df['Insulin'] = by_Glucose_Age_Insulin_Grp['Insulin'].transform(fill_Insulin)\n",
        "df['Insulin'] = df['Insulin'].fillna(df['Insulin'].mean())\n",
        "\n",
        "\n",
        "# Handling missing Skin Thickness values using BMI\n",
        "by_BMI_Insulin = df.groupby(['BMI'])\n",
        "def fill_Skinthickness(series):\n",
        "    return series.fillna(series.mean())\n",
        "    \n",
        "df['SkinThickness'] = by_BMI_Insulin['SkinThickness'].transform(fill_Skinthickness)\n",
        "df['SkinThickness'].fillna(df['SkinThickness'].mean(),inplace= True) \n",
        "\n"
      ],
      "metadata": {
        "colab": {
          "base_uri": "https://localhost:8080/"
        },
        "id": "YHoBN4rBmjzi",
        "outputId": "b1446e41-71e6-4a0d-b5b7-c5d406241d51"
      },
      "execution_count": 223,
      "outputs": [
        {
          "output_type": "stream",
          "name": "stderr",
          "text": [
            "/usr/local/lib/python3.8/dist-packages/numpy/lib/nanfunctions.py:1117: RuntimeWarning: Mean of empty slice\n",
            "  return np.nanmean(a, axis, out=out, keepdims=keepdims)\n",
            "/usr/local/lib/python3.8/dist-packages/numpy/lib/nanfunctions.py:1117: RuntimeWarning: Mean of empty slice\n",
            "  return np.nanmean(a, axis, out=out, keepdims=keepdims)\n",
            "/usr/local/lib/python3.8/dist-packages/numpy/lib/nanfunctions.py:1117: RuntimeWarning: Mean of empty slice\n",
            "  return np.nanmean(a, axis, out=out, keepdims=keepdims)\n",
            "/usr/local/lib/python3.8/dist-packages/numpy/lib/nanfunctions.py:1117: RuntimeWarning: Mean of empty slice\n",
            "  return np.nanmean(a, axis, out=out, keepdims=keepdims)\n",
            "/usr/local/lib/python3.8/dist-packages/numpy/lib/nanfunctions.py:1117: RuntimeWarning: Mean of empty slice\n",
            "  return np.nanmean(a, axis, out=out, keepdims=keepdims)\n",
            "/usr/local/lib/python3.8/dist-packages/numpy/lib/nanfunctions.py:1117: RuntimeWarning: Mean of empty slice\n",
            "  return np.nanmean(a, axis, out=out, keepdims=keepdims)\n",
            "/usr/local/lib/python3.8/dist-packages/numpy/lib/nanfunctions.py:1117: RuntimeWarning: Mean of empty slice\n",
            "  return np.nanmean(a, axis, out=out, keepdims=keepdims)\n",
            "/usr/local/lib/python3.8/dist-packages/numpy/lib/nanfunctions.py:1117: RuntimeWarning: Mean of empty slice\n",
            "  return np.nanmean(a, axis, out=out, keepdims=keepdims)\n",
            "/usr/local/lib/python3.8/dist-packages/numpy/lib/nanfunctions.py:1117: RuntimeWarning: Mean of empty slice\n",
            "  return np.nanmean(a, axis, out=out, keepdims=keepdims)\n",
            "/usr/local/lib/python3.8/dist-packages/numpy/lib/nanfunctions.py:1117: RuntimeWarning: Mean of empty slice\n",
            "  return np.nanmean(a, axis, out=out, keepdims=keepdims)\n",
            "/usr/local/lib/python3.8/dist-packages/numpy/lib/nanfunctions.py:1117: RuntimeWarning: Mean of empty slice\n",
            "  return np.nanmean(a, axis, out=out, keepdims=keepdims)\n",
            "/usr/local/lib/python3.8/dist-packages/numpy/lib/nanfunctions.py:1117: RuntimeWarning: Mean of empty slice\n",
            "  return np.nanmean(a, axis, out=out, keepdims=keepdims)\n",
            "/usr/local/lib/python3.8/dist-packages/numpy/lib/nanfunctions.py:1117: RuntimeWarning: Mean of empty slice\n",
            "  return np.nanmean(a, axis, out=out, keepdims=keepdims)\n",
            "/usr/local/lib/python3.8/dist-packages/numpy/lib/nanfunctions.py:1117: RuntimeWarning: Mean of empty slice\n",
            "  return np.nanmean(a, axis, out=out, keepdims=keepdims)\n",
            "/usr/local/lib/python3.8/dist-packages/numpy/lib/nanfunctions.py:1117: RuntimeWarning: Mean of empty slice\n",
            "  return np.nanmean(a, axis, out=out, keepdims=keepdims)\n",
            "/usr/local/lib/python3.8/dist-packages/numpy/lib/nanfunctions.py:1117: RuntimeWarning: Mean of empty slice\n",
            "  return np.nanmean(a, axis, out=out, keepdims=keepdims)\n",
            "/usr/local/lib/python3.8/dist-packages/numpy/lib/nanfunctions.py:1117: RuntimeWarning: Mean of empty slice\n",
            "  return np.nanmean(a, axis, out=out, keepdims=keepdims)\n",
            "/usr/local/lib/python3.8/dist-packages/numpy/lib/nanfunctions.py:1117: RuntimeWarning: Mean of empty slice\n",
            "  return np.nanmean(a, axis, out=out, keepdims=keepdims)\n"
          ]
        }
      ]
    },
    {
      "cell_type": "code",
      "source": [
        "# Model Building\n",
        "from sklearn.model_selection import train_test_split\n",
        "X = df.drop(columns='Outcome')\n",
        "y = df['Outcome']\n",
        "X_train, X_test, y_train, y_test = train_test_split(X, y, test_size=0.20, random_state=0)"
      ],
      "metadata": {
        "id": "Rez9z1ZJd4eB"
      },
      "execution_count": 224,
      "outputs": []
    },
    {
      "cell_type": "code",
      "source": [
        "# FEATURE ENGINEERING\n",
        "\n",
        "from sklearn.preprocessing import MinMaxScaler,StandardScaler\n",
        "mms = MinMaxScaler() # Normalization\n",
        "sc = StandardScaler()\n",
        "X_train = mms.fit_transform(X_train)\n",
        "X_test = mms.transform(X_test)"
      ],
      "metadata": {
        "id": "1nTyvMcVgPvl"
      },
      "execution_count": 225,
      "outputs": []
    },
    {
      "cell_type": "code",
      "source": [
        "# Creating Random Forest Model\n",
        "from sklearn.ensemble import RandomForestClassifier\n",
        "classifier = RandomForestClassifier(n_estimators=1000)\n",
        "\n",
        "# Logistic Regression Algorithm\n",
        "from sklearn.linear_model import LogisticRegression\n",
        "logreg = LogisticRegression(random_state = 42)\n",
        "\n",
        "# K nearest neighbors Algorithm\n",
        "from sklearn.neighbors import KNeighborsClassifier\n",
        "knn = KNeighborsClassifier(n_neighbors = 100, metric = 'minkowski', p = 2)\n",
        "\n",
        "# Support Vector Classifier Algorithm\n",
        "from sklearn.svm import SVC\n",
        "svc = SVC(kernel = 'linear', random_state = 42)\n",
        "\n",
        "# Artificial Neural Network\n",
        "from sklearn.neural_network import MLPClassifier\n",
        "nm_model = MLPClassifier(hidden_layer_sizes=(128,128))\n",
        "\n",
        "# Decision Tree Classifier\n",
        "from sklearn.tree import DecisionTreeClassifier\n",
        "classifier_dt = DecisionTreeClassifier(random_state = 1000,max_depth = 4,min_samples_leaf = 1)\n",
        "\n",
        "# XGBoost Classifier\n",
        "from xgboost import XGBClassifier\n",
        "classifier_xgb = XGBClassifier(learning_rate= 0.01,max_depth = 3,n_estimators = 1000)\n",
        "\n",
        "\n",
        "# LGBM Classifier\n",
        "from lightgbm import LGBMClassifier\n",
        "lgbm_params = {\n",
        "        'n_estimators': [100, 500, 1000, 2000],\n",
        "        'subsample': [0.6, 0.8, 1.0],\n",
        "        'max_depth': [3, 4, 5,6],\n",
        "        'learning_rate': [0.1,0.01,0.02,0.05],\n",
        "        \"min_child_samples\": [5,10,20]}\n",
        "lgbm = LGBMClassifier()\n",
        "\n",
        "lgbm_cv_model = GridSearchCV(lgbm, lgbm_params, \n",
        "                             cv = 10, \n",
        "                             n_jobs = -1, \n",
        "                             verbose = 2)\n",
        "\n",
        "# Best parameters are founded with GridSearchCV\n",
        "lgbm = LGBMClassifier(learning_rate = 0.01, \n",
        "                       max_depth = 3,\n",
        "                       subsample = 0.6,\n",
        "                       n_estimators = 500,\n",
        "                       min_child_samples = 20)\n",
        "\n",
        "# Models List\n",
        "models = [classifier, logreg, knn, classifier_dt]"
      ],
      "metadata": {
        "id": "bQt25Mezd6gC"
      },
      "execution_count": 226,
      "outputs": []
    },
    {
      "cell_type": "code",
      "source": [
        "from sklearn.model_selection import train_test_split\n",
        "from sklearn.metrics import confusion_matrix\n",
        "from sklearn.metrics import roc_auc_score\n",
        "from sklearn.metrics import plot_roc_curve\n",
        "from sklearn.model_selection import cross_val_score\n",
        "from sklearn.model_selection import GridSearchCV\n",
        "from sklearn.metrics import classification_report\n",
        "from sklearn.metrics import accuracy_score\n",
        "from sklearn.model_selection import RepeatedStratifiedKFold\n",
        "from sklearn.metrics import precision_recall_curve\n",
        "\n",
        "def model(classifier,x_train,y_train,x_test,y_test):\n",
        "    classifier.fit(x_train,y_train)\n",
        "    prediction = classifier.predict(x_test)\n",
        "    cv = RepeatedStratifiedKFold(n_splits = 10,n_repeats = 3,random_state = 1)\n",
        "    print(\"Cross Validation Score : \",'{0:.2%}'.format(cross_val_score(classifier,x_train,y_train,cv = cv,scoring = 'roc_auc').mean()))\n",
        "    print(\"ROC_AUC Score : \",'{0:.2%}'.format(roc_auc_score(y_test,prediction)))\n",
        "    \n",
        "\n",
        "def model_evaluation(classifier,x_test,y_test):\n",
        "    \n",
        "    # Confusion Matrix\n",
        "    cm = confusion_matrix(y_test,classifier.predict(x_test))\n",
        "    names = ['True Neg','False Pos','False Neg','True Pos']\n",
        "    counts = [value for value in cm.flatten()]\n",
        "    percentages = ['{0:.2%}'.format(value) for value in cm.flatten()/np.sum(cm)]\n",
        "    labels = [f'{v1}\\n{v2}\\n{v3}' for v1, v2, v3 in zip(names,counts,percentages)]\n",
        "    labels = np.asarray(labels).reshape(2,2)\n",
        "    sns.heatmap(cm,annot = labels,cmap = 'Blues',fmt ='')\n",
        "    \n",
        "    # Classification Report\n",
        "    print(classification_report(y_test,classifier.predict(x_test)))\n",
        "\n"
      ],
      "metadata": {
        "id": "yLs_lE1ZJLWa"
      },
      "execution_count": 227,
      "outputs": []
    },
    {
      "cell_type": "code",
      "source": [
        "# MODEL EVALUATION\n",
        "\n",
        "for m in models:\n",
        "  print(\"\\n\", m, 'SCORE')\n",
        "  model(m,X_train,y_train,X_test,y_test)\n"
      ],
      "metadata": {
        "colab": {
          "base_uri": "https://localhost:8080/"
        },
        "id": "BdlZcNZRcm3H",
        "outputId": "3668c28e-9514-4ef7-89a4-f92681db0ef5"
      },
      "execution_count": 228,
      "outputs": [
        {
          "output_type": "stream",
          "name": "stdout",
          "text": [
            "\n",
            " RandomForestClassifier(n_estimators=1000) SCORE\n",
            "Cross Validation Score :  81.53%\n",
            "ROC_AUC Score :  74.78%\n",
            "\n",
            " LogisticRegression(random_state=42) SCORE\n",
            "Cross Validation Score :  82.96%\n",
            "ROC_AUC Score :  73.45%\n",
            "\n",
            " KNeighborsClassifier(n_neighbors=100) SCORE\n",
            "Cross Validation Score :  81.83%\n",
            "ROC_AUC Score :  74.39%\n",
            "\n",
            " DecisionTreeClassifier(max_depth=4, random_state=1000) SCORE\n",
            "Cross Validation Score :  77.49%\n",
            "ROC_AUC Score :  71.25%\n"
          ]
        }
      ]
    },
    {
      "cell_type": "code",
      "source": [
        "# TRAIN DATA ACCURACY SCORE\n",
        "print('TRAIN DATA ACCURACY TEST')\n",
        "for m in models:\n",
        "  print(\"\\n\",m.fit(X_train, y_train))\n",
        "  print(m.score(X_train, y_train))\n",
        "\n",
        "# TEST DATA ACCURACY SCORE\n",
        "print('\\nTEST DATA ACCURACY TEST')\n",
        "for m in models:\n",
        "  print(\"\\n\",m.fit(X_test, y_test))\n",
        "  print(m.score(X_test, y_test))"
      ],
      "metadata": {
        "colab": {
          "base_uri": "https://localhost:8080/"
        },
        "id": "MajQVJZPcrOH",
        "outputId": "9fa5ec05-6993-4367-8dc2-097c0aa0f829"
      },
      "execution_count": 229,
      "outputs": [
        {
          "output_type": "stream",
          "name": "stdout",
          "text": [
            "TRAIN DATA ACCURACY TEST\n",
            "\n",
            " RandomForestClassifier(n_estimators=1000)\n",
            "1.0\n",
            "\n",
            " LogisticRegression(random_state=42)\n",
            "0.760586319218241\n",
            "\n",
            " KNeighborsClassifier(n_neighbors=100)\n",
            "0.755700325732899\n",
            "\n",
            " DecisionTreeClassifier(max_depth=4, random_state=1000)\n",
            "0.7850162866449512\n",
            "\n",
            "TEST DATA ACCURACY TEST\n",
            "\n",
            " RandomForestClassifier(n_estimators=1000)\n",
            "1.0\n",
            "\n",
            " LogisticRegression(random_state=42)\n",
            "0.8051948051948052\n",
            "\n",
            " KNeighborsClassifier(n_neighbors=100)\n",
            "0.6948051948051948\n",
            "\n",
            " DecisionTreeClassifier(max_depth=4, random_state=1000)\n",
            "0.9025974025974026\n"
          ]
        }
      ]
    },
    {
      "cell_type": "code",
      "source": [
        "# JOBLIB TEST\n",
        "\n",
        "import joblib\n",
        "\n",
        "print(\"JOBLIB TEST\")\n",
        "for m in models:\n",
        "  modName = str(m)\n",
        "  joblib.dump(m, modName)\n",
        "  model = joblib.load(str(m))\n",
        "  diabModel = model.predict_proba([[0,0,0,0,0,43.3,1,41]])\n",
        "  for r in diabModel:\n",
        "    print('\\n',m)\n",
        "    print(\"Chance of being diabetic: \", round(r[1] * 100),\"%\")\n",
        "\n",
        "\n"
      ],
      "metadata": {
        "colab": {
          "base_uri": "https://localhost:8080/"
        },
        "id": "xe3BgYDHPhoi",
        "outputId": "89620d76-dc12-4850-ccf4-262e0b333551"
      },
      "execution_count": 237,
      "outputs": [
        {
          "output_type": "stream",
          "name": "stdout",
          "text": [
            "Test Data\n",
            "\n",
            " RandomForestClassifier(n_estimators=1000)\n",
            "Chance of being diabetic:  22 %\n",
            "\n",
            " LogisticRegression(random_state=42)\n",
            "Chance of being diabetic:  100 %\n",
            "\n",
            " KNeighborsClassifier(n_neighbors=100)\n",
            "Chance of being diabetic:  43 %\n",
            "\n",
            " DecisionTreeClassifier(max_depth=4, random_state=1000)\n",
            "Chance of being diabetic:  100 %\n"
          ]
        }
      ]
    },
    {
      "cell_type": "code",
      "source": [
        "# CORRELATION SCORE\n",
        "\n",
        "plt.figure(figsize= (15, 7))\n",
        "sns.heatmap(df.corr(),annot= True)"
      ],
      "metadata": {
        "id": "umWNNucNi87e",
        "colab": {
          "base_uri": "https://localhost:8080/",
          "height": 449
        },
        "outputId": "7d641e7c-e778-4749-ed90-12eeefc34266"
      },
      "execution_count": 231,
      "outputs": [
        {
          "output_type": "execute_result",
          "data": {
            "text/plain": [
              "<matplotlib.axes._subplots.AxesSubplot at 0x7fa3222bcf40>"
            ]
          },
          "metadata": {},
          "execution_count": 231
        },
        {
          "output_type": "display_data",
          "data": {
            "text/plain": [
              "<Figure size 1080x504 with 2 Axes>"
            ],
            "image/png": "[encoded data removed]"
          },
          "metadata": {
            "needs_background": "light"
          }
        }
      ]
    },
    {
      "cell_type": "code",
      "source": [
        "# PRESENTING THE BEST NUMERICAL FEATURES\n",
        "\n",
        "allColumns = list(df.drop(columns=['Outcome']))\n",
        "\n",
        "from sklearn.feature_selection import f_classif\n",
        "from sklearn.feature_selection import SelectKBest\n",
        "\n",
        "features = df.loc[:,allColumns]\n",
        "target = df.loc[:,'Outcome']\n",
        "\n",
        "best_features = SelectKBest(score_func = f_classif,k = 'all')\n",
        "fit = best_features.fit(features,target)\n",
        "\n",
        "featureScores = pd.DataFrame(data = fit.scores_,index = list(features.columns),columns = ['ANOVA Score']) \n",
        "\n",
        "plt.subplots(figsize = (5,5))\n",
        "sns.heatmap(featureScores.sort_values(ascending = False,by = 'ANOVA Score'),annot = True,cmap = 'mako',linewidths = 0.4,linecolor = 'black',fmt = '.2f');\n",
        "plt.title('Selection of Numerical Features');\n"
      ],
      "metadata": {
        "id": "BOJJ745xm-vi",
        "colab": {
          "base_uri": "https://localhost:8080/",
          "height": 336
        },
        "outputId": "35b726fd-c8b2-4894-c8ae-bf40425812bd"
      },
      "execution_count": 232,
      "outputs": [
        {
          "output_type": "display_data",
          "data": {
            "text/plain": [
              "<Figure size 360x360 with 2 Axes>"
            ],
            "image/png": "[encoded data removed]"
          },
          "metadata": {
            "needs_background": "light"
          }
        }
      ]
    },
    {
      "cell_type": "code",
      "source": [],
      "metadata": {
        "id": "m4blM2_HpLoa"
      },
      "execution_count": 232,
      "outputs": []
    }
  ]
}
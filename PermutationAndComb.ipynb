{
  "nbformat": 4,
  "nbformat_minor": 0,
  "metadata": {
    "colab": {
      "provenance": [],
      "authorship_tag": "ABX9TyNa7ywpx1niBJcaJYox8dQ4",
      "include_colab_link": true
    },
    "kernelspec": {
      "name": "python3",
      "display_name": "Python 3"
    },
    "language_info": {
      "name": "python"
    }
  },
  "cells": [
    {
      "cell_type": "markdown",
      "metadata": {
        "id": "view-in-github",
        "colab_type": "text"
      },
      "source": [
        "<a href=\"https://colab.research.google.com/github/duaneywadey/A-collection-of-Jupyter-notebooks-and-CSV-files/blob/data-structures-and-algorithms-review/PermutationAndComb.ipynb\" target=\"_parent\"><img src=\"https://colab.research.google.com/assets/colab-badge.svg\" alt=\"Open In Colab\"/></a>"
      ]
    },
    {
      "cell_type": "code",
      "execution_count": null,
      "metadata": {
        "colab": {
          "base_uri": "https://localhost:8080/"
        },
        "id": "qNR8Qbj1dOCK",
        "outputId": "55c598aa-4bf1-49d1-e0bb-c08a7e652dff"
      },
      "outputs": [
        {
          "output_type": "stream",
          "name": "stdout",
          "text": [
            "Permutation #1: ()\n",
            "Permutation #2: (0,)\n",
            "Permutation #3: (2,)\n",
            "Permutation #4: (4,)\n",
            "Permutation #5: (6,)\n",
            "Permutation #6: (0, 2)\n",
            "Permutation #7: (0, 4)\n",
            "Permutation #8: (0, 6)\n",
            "Permutation #9: (2, 0)\n",
            "Permutation #10: (2, 4)\n",
            "Permutation #11: (2, 6)\n",
            "Permutation #12: (4, 0)\n",
            "Permutation #13: (4, 2)\n",
            "Permutation #14: (4, 6)\n",
            "Permutation #15: (6, 0)\n",
            "Permutation #16: (6, 2)\n",
            "Permutation #17: (6, 4)\n",
            "Permutation #18: (0, 2, 4)\n",
            "Permutation #19: (0, 2, 6)\n",
            "Permutation #20: (0, 4, 2)\n",
            "Permutation #21: (0, 4, 6)\n",
            "Permutation #22: (0, 6, 2)\n",
            "Permutation #23: (0, 6, 4)\n",
            "Permutation #24: (2, 0, 4)\n",
            "Permutation #25: (2, 0, 6)\n",
            "Permutation #26: (2, 4, 0)\n",
            "Permutation #27: (2, 4, 6)\n",
            "Permutation #28: (2, 6, 0)\n",
            "Permutation #29: (2, 6, 4)\n",
            "Permutation #30: (4, 0, 2)\n",
            "Permutation #31: (4, 0, 6)\n",
            "Permutation #32: (4, 2, 0)\n",
            "Permutation #33: (4, 2, 6)\n",
            "Permutation #34: (4, 6, 0)\n",
            "Permutation #35: (4, 6, 2)\n",
            "Permutation #36: (6, 0, 2)\n",
            "Permutation #37: (6, 0, 4)\n",
            "Permutation #38: (6, 2, 0)\n",
            "Permutation #39: (6, 2, 4)\n",
            "Permutation #40: (6, 4, 0)\n",
            "Permutation #41: (6, 4, 2)\n",
            "Permutation #42: (0, 2, 4, 6)\n",
            "Permutation #43: (0, 2, 6, 4)\n",
            "Permutation #44: (0, 4, 2, 6)\n",
            "Permutation #45: (0, 4, 6, 2)\n",
            "Permutation #46: (0, 6, 2, 4)\n",
            "Permutation #47: (0, 6, 4, 2)\n",
            "Permutation #48: (2, 0, 4, 6)\n",
            "Permutation #49: (2, 0, 6, 4)\n",
            "Permutation #50: (2, 4, 0, 6)\n",
            "Permutation #51: (2, 4, 6, 0)\n",
            "Permutation #52: (2, 6, 0, 4)\n",
            "Permutation #53: (2, 6, 4, 0)\n",
            "Permutation #54: (4, 0, 2, 6)\n",
            "Permutation #55: (4, 0, 6, 2)\n",
            "Permutation #56: (4, 2, 0, 6)\n",
            "Permutation #57: (4, 2, 6, 0)\n",
            "Permutation #58: (4, 6, 0, 2)\n",
            "Permutation #59: (4, 6, 2, 0)\n",
            "Permutation #60: (6, 0, 2, 4)\n",
            "Permutation #61: (6, 0, 4, 2)\n",
            "Permutation #62: (6, 2, 0, 4)\n",
            "Permutation #63: (6, 2, 4, 0)\n",
            "Permutation #64: (6, 4, 0, 2)\n",
            "Permutation #65: (6, 4, 2, 0)\n"
          ]
        }
      ],
      "source": [
        "from itertools import chain, permutations\n",
        "\n",
        "def powerset(iterable):\n",
        "    s = list(iterable)  # allows duplicate elements\n",
        "    return chain.from_iterable(permutations(s, r) for r in range(len(s)+1))\n",
        "\n",
        "stuff = [0,2,4,6]\n",
        "for i, perm in enumerate(powerset(stuff), 1):\n",
        "    print('Permutation #{}: {}'.format(i, perm))"
      ]
    },
    {
      "cell_type": "code",
      "source": [
        "from itertools import chain, combinations\n",
        "\n",
        "def powerset(iterable):\n",
        "    s = list(iterable)  # allows duplicate elements\n",
        "    return chain.from_iterable(combinations(s, r) for r in range(len(s)+1))\n",
        "\n",
        "stuff = [5,6,7,8,9]\n",
        "for i, combo in enumerate(powerset(stuff), 1):\n",
        "    print('combo #{}: {}'.format(i, combo))"
      ],
      "metadata": {
        "colab": {
          "base_uri": "https://localhost:8080/"
        },
        "id": "rV1Ah8Xrdhrj",
        "outputId": "a6ec6d1a-c2c3-415a-c73b-f3b42807dff1"
      },
      "execution_count": null,
      "outputs": [
        {
          "output_type": "stream",
          "name": "stdout",
          "text": [
            "combo #1: ()\n",
            "combo #2: (5,)\n",
            "combo #3: (6,)\n",
            "combo #4: (7,)\n",
            "combo #5: (8,)\n",
            "combo #6: (9,)\n",
            "combo #7: (5, 6)\n",
            "combo #8: (5, 7)\n",
            "combo #9: (5, 8)\n",
            "combo #10: (5, 9)\n",
            "combo #11: (6, 7)\n",
            "combo #12: (6, 8)\n",
            "combo #13: (6, 9)\n",
            "combo #14: (7, 8)\n",
            "combo #15: (7, 9)\n",
            "combo #16: (8, 9)\n",
            "combo #17: (5, 6, 7)\n",
            "combo #18: (5, 6, 8)\n",
            "combo #19: (5, 6, 9)\n",
            "combo #20: (5, 7, 8)\n",
            "combo #21: (5, 7, 9)\n",
            "combo #22: (5, 8, 9)\n",
            "combo #23: (6, 7, 8)\n",
            "combo #24: (6, 7, 9)\n",
            "combo #25: (6, 8, 9)\n",
            "combo #26: (7, 8, 9)\n",
            "combo #27: (5, 6, 7, 8)\n",
            "combo #28: (5, 6, 7, 9)\n",
            "combo #29: (5, 6, 8, 9)\n",
            "combo #30: (5, 7, 8, 9)\n",
            "combo #31: (6, 7, 8, 9)\n",
            "combo #32: (5, 6, 7, 8, 9)\n"
          ]
        }
      ]
    },
    {
      "cell_type": "code",
      "source": [
        "from itertools import permutations\n",
        "# list of numbers\n",
        "word = 'Duane'\n",
        "list1 = list(word)\n",
        "listsss = (list(permutations(list1)))\n",
        "\n",
        "for p in listsss:\n",
        "  print(p)\n",
        "print(\"\\n\\n-----------------------------------\\n\\nNumber of permutations possible: \", len(listsss))\n",
        "\n"
      ],
      "metadata": {
        "id": "VXWaY1J-h5sY",
        "colab": {
          "base_uri": "https://localhost:8080/"
        },
        "outputId": "79fa5637-0c40-42b7-966f-2a32e55c9cdb"
      },
      "execution_count": 20,
      "outputs": [
        {
          "output_type": "stream",
          "name": "stdout",
          "text": [
            "('D', 'u', 'a', 'n', 'e')\n",
            "('D', 'u', 'a', 'e', 'n')\n",
            "('D', 'u', 'n', 'a', 'e')\n",
            "('D', 'u', 'n', 'e', 'a')\n",
            "('D', 'u', 'e', 'a', 'n')\n",
            "('D', 'u', 'e', 'n', 'a')\n",
            "('D', 'a', 'u', 'n', 'e')\n",
            "('D', 'a', 'u', 'e', 'n')\n",
            "('D', 'a', 'n', 'u', 'e')\n",
            "('D', 'a', 'n', 'e', 'u')\n",
            "('D', 'a', 'e', 'u', 'n')\n",
            "('D', 'a', 'e', 'n', 'u')\n",
            "('D', 'n', 'u', 'a', 'e')\n",
            "('D', 'n', 'u', 'e', 'a')\n",
            "('D', 'n', 'a', 'u', 'e')\n",
            "('D', 'n', 'a', 'e', 'u')\n",
            "('D', 'n', 'e', 'u', 'a')\n",
            "('D', 'n', 'e', 'a', 'u')\n",
            "('D', 'e', 'u', 'a', 'n')\n",
            "('D', 'e', 'u', 'n', 'a')\n",
            "('D', 'e', 'a', 'u', 'n')\n",
            "('D', 'e', 'a', 'n', 'u')\n",
            "('D', 'e', 'n', 'u', 'a')\n",
            "('D', 'e', 'n', 'a', 'u')\n",
            "('u', 'D', 'a', 'n', 'e')\n",
            "('u', 'D', 'a', 'e', 'n')\n",
            "('u', 'D', 'n', 'a', 'e')\n",
            "('u', 'D', 'n', 'e', 'a')\n",
            "('u', 'D', 'e', 'a', 'n')\n",
            "('u', 'D', 'e', 'n', 'a')\n",
            "('u', 'a', 'D', 'n', 'e')\n",
            "('u', 'a', 'D', 'e', 'n')\n",
            "('u', 'a', 'n', 'D', 'e')\n",
            "('u', 'a', 'n', 'e', 'D')\n",
            "('u', 'a', 'e', 'D', 'n')\n",
            "('u', 'a', 'e', 'n', 'D')\n",
            "('u', 'n', 'D', 'a', 'e')\n",
            "('u', 'n', 'D', 'e', 'a')\n",
            "('u', 'n', 'a', 'D', 'e')\n",
            "('u', 'n', 'a', 'e', 'D')\n",
            "('u', 'n', 'e', 'D', 'a')\n",
            "('u', 'n', 'e', 'a', 'D')\n",
            "('u', 'e', 'D', 'a', 'n')\n",
            "('u', 'e', 'D', 'n', 'a')\n",
            "('u', 'e', 'a', 'D', 'n')\n",
            "('u', 'e', 'a', 'n', 'D')\n",
            "('u', 'e', 'n', 'D', 'a')\n",
            "('u', 'e', 'n', 'a', 'D')\n",
            "('a', 'D', 'u', 'n', 'e')\n",
            "('a', 'D', 'u', 'e', 'n')\n",
            "('a', 'D', 'n', 'u', 'e')\n",
            "('a', 'D', 'n', 'e', 'u')\n",
            "('a', 'D', 'e', 'u', 'n')\n",
            "('a', 'D', 'e', 'n', 'u')\n",
            "('a', 'u', 'D', 'n', 'e')\n",
            "('a', 'u', 'D', 'e', 'n')\n",
            "('a', 'u', 'n', 'D', 'e')\n",
            "('a', 'u', 'n', 'e', 'D')\n",
            "('a', 'u', 'e', 'D', 'n')\n",
            "('a', 'u', 'e', 'n', 'D')\n",
            "('a', 'n', 'D', 'u', 'e')\n",
            "('a', 'n', 'D', 'e', 'u')\n",
            "('a', 'n', 'u', 'D', 'e')\n",
            "('a', 'n', 'u', 'e', 'D')\n",
            "('a', 'n', 'e', 'D', 'u')\n",
            "('a', 'n', 'e', 'u', 'D')\n",
            "('a', 'e', 'D', 'u', 'n')\n",
            "('a', 'e', 'D', 'n', 'u')\n",
            "('a', 'e', 'u', 'D', 'n')\n",
            "('a', 'e', 'u', 'n', 'D')\n",
            "('a', 'e', 'n', 'D', 'u')\n",
            "('a', 'e', 'n', 'u', 'D')\n",
            "('n', 'D', 'u', 'a', 'e')\n",
            "('n', 'D', 'u', 'e', 'a')\n",
            "('n', 'D', 'a', 'u', 'e')\n",
            "('n', 'D', 'a', 'e', 'u')\n",
            "('n', 'D', 'e', 'u', 'a')\n",
            "('n', 'D', 'e', 'a', 'u')\n",
            "('n', 'u', 'D', 'a', 'e')\n",
            "('n', 'u', 'D', 'e', 'a')\n",
            "('n', 'u', 'a', 'D', 'e')\n",
            "('n', 'u', 'a', 'e', 'D')\n",
            "('n', 'u', 'e', 'D', 'a')\n",
            "('n', 'u', 'e', 'a', 'D')\n",
            "('n', 'a', 'D', 'u', 'e')\n",
            "('n', 'a', 'D', 'e', 'u')\n",
            "('n', 'a', 'u', 'D', 'e')\n",
            "('n', 'a', 'u', 'e', 'D')\n",
            "('n', 'a', 'e', 'D', 'u')\n",
            "('n', 'a', 'e', 'u', 'D')\n",
            "('n', 'e', 'D', 'u', 'a')\n",
            "('n', 'e', 'D', 'a', 'u')\n",
            "('n', 'e', 'u', 'D', 'a')\n",
            "('n', 'e', 'u', 'a', 'D')\n",
            "('n', 'e', 'a', 'D', 'u')\n",
            "('n', 'e', 'a', 'u', 'D')\n",
            "('e', 'D', 'u', 'a', 'n')\n",
            "('e', 'D', 'u', 'n', 'a')\n",
            "('e', 'D', 'a', 'u', 'n')\n",
            "('e', 'D', 'a', 'n', 'u')\n",
            "('e', 'D', 'n', 'u', 'a')\n",
            "('e', 'D', 'n', 'a', 'u')\n",
            "('e', 'u', 'D', 'a', 'n')\n",
            "('e', 'u', 'D', 'n', 'a')\n",
            "('e', 'u', 'a', 'D', 'n')\n",
            "('e', 'u', 'a', 'n', 'D')\n",
            "('e', 'u', 'n', 'D', 'a')\n",
            "('e', 'u', 'n', 'a', 'D')\n",
            "('e', 'a', 'D', 'u', 'n')\n",
            "('e', 'a', 'D', 'n', 'u')\n",
            "('e', 'a', 'u', 'D', 'n')\n",
            "('e', 'a', 'u', 'n', 'D')\n",
            "('e', 'a', 'n', 'D', 'u')\n",
            "('e', 'a', 'n', 'u', 'D')\n",
            "('e', 'n', 'D', 'u', 'a')\n",
            "('e', 'n', 'D', 'a', 'u')\n",
            "('e', 'n', 'u', 'D', 'a')\n",
            "('e', 'n', 'u', 'a', 'D')\n",
            "('e', 'n', 'a', 'D', 'u')\n",
            "('e', 'n', 'a', 'u', 'D')\n",
            "\n",
            "\n",
            "-----------------------------------\n",
            "\n",
            "Number of permutations possible:  120\n"
          ]
        }
      ]
    },
    {
      "cell_type": "code",
      "source": [
        "from itertools import combinations\n",
        "# list of numbers\n",
        "word = 'Duane'\n",
        "list1 = list(word)\n",
        "listsss = (list(combinations(list1, len(list1))))\n",
        "\n",
        "for p in listsss:\n",
        "  print(p)\n",
        "print(\"\\n\\n-----------------------------------\\n\\nNumber of combinations possible: \", len(listsss))\n",
        "\n"
      ],
      "metadata": {
        "colab": {
          "base_uri": "https://localhost:8080/"
        },
        "id": "Z2kIP5hviV6_",
        "outputId": "d89c404f-ae0e-46d9-bab5-7953f3f58e33"
      },
      "execution_count": 22,
      "outputs": [
        {
          "output_type": "stream",
          "name": "stdout",
          "text": [
            "('D', 'u', 'a', 'n', 'e')\n",
            "\n",
            "\n",
            "-----------------------------------\n",
            "\n",
            "Number of combinations possible:  1\n"
          ]
        }
      ]
    },
    {
      "cell_type": "code",
      "source": [],
      "metadata": {
        "id": "kcYF4k9yoGuE"
      },
      "execution_count": null,
      "outputs": []
    }
  ]
}
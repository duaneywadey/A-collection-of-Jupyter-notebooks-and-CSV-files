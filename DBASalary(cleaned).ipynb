{
  "nbformat": 4,
  "nbformat_minor": 0,
  "metadata": {
    "colab": {
      "provenance": [],
      "authorship_tag": "ABX9TyNgCuqLPD3hB+NGONH3bfS1",
      "include_colab_link": true
    },
    "kernelspec": {
      "name": "python3",
      "display_name": "Python 3"
    },
    "language_info": {
      "name": "python"
    }
  },
  "cells": [
    {
      "cell_type": "markdown",
      "metadata": {
        "id": "view-in-github",
        "colab_type": "text"
      },
      "source": [
        "<a href=\"https://colab.research.google.com/github/duaneywadey/A-collection-of-Jupyter-notebooks-and-CSV-files/blob/data-analysis/DBASalary(cleaned).ipynb\" target=\"_parent\"><img src=\"https://colab.research.google.com/assets/colab-badge.svg\" alt=\"Open In Colab\"/></a>"
      ]
    },
    {
      "cell_type": "code",
      "execution_count": 47,
      "metadata": {
        "id": "ss-dt7QD46cV"
      },
      "outputs": [],
      "source": [
        "# Importing the libraries\n",
        "\n",
        "import pandas as pd\n",
        "import numpy as np\n",
        "import seaborn as sns\n",
        "import matplotlib.pyplot as plt\n",
        "%matplotlib inline"
      ]
    },
    {
      "cell_type": "code",
      "source": [
        "# Importing the dataset\n",
        "\n",
        "df = pd.read_csv('https://raw.githubusercontent.com/duaneywadey/A-collection-of-Jupyter-notebooks-and-CSV-files/main/CSV%20Files/cleanedSalaryData(DataProfessionals).csv')\n",
        "df.head()"
      ],
      "metadata": {
        "colab": {
          "base_uri": "https://localhost:8080/",
          "height": 354
        },
        "id": "d7z027po5fXB",
        "outputId": "0ae2a111-f799-4ad2-b073-8bd43a9da0fb"
      },
      "execution_count": 48,
      "outputs": [
        {
          "output_type": "execute_result",
          "data": {
            "text/plain": [
              "   Unnamed: 0         Country       PrimaryDatabase  YearsWithThisDatabase  \\\n",
              "0           0   United States  Microsoft SQL Server                     10   \n",
              "1           1  United Kingdom  Microsoft SQL Server                     15   \n",
              "2           2         Germany  Microsoft SQL Server                      5   \n",
              "3           3  United Kingdom  Microsoft SQL Server                      6   \n",
              "4           4          France  Microsoft SQL Server                     10   \n",
              "\n",
              "     EmploymentStatus JobTitle  HoursWorkedPerWeek  EmploymentSector  \\\n",
              "0  Full time employee      DBA                  45  Private business   \n",
              "1  Full time employee      DBA                  35  Private business   \n",
              "2  Full time employee    Other                  45  Private business   \n",
              "3  Full time employee      DBA                  40  Private business   \n",
              "4  Full time employee      DBA                  40  Private business   \n",
              "\n",
              "   SalaryUSD  \n",
              "0   200000.0  \n",
              "1    61515.0  \n",
              "2    95000.0  \n",
              "3    56000.0  \n",
              "4    35000.0  "
            ],
            "text/html": [
              "\n",
              "  <div id=\"df-e190a814-80d4-4fff-9bfe-f741a87c87f0\">\n",
              "    <div class=\"colab-df-container\">\n",
              "      <div>\n",
              "<style scoped>\n",
              "    .dataframe tbody tr th:only-of-type {\n",
              "        vertical-align: middle;\n",
              "    }\n",
              "\n",
              "    .dataframe tbody tr th {\n",
              "        vertical-align: top;\n",
              "    }\n",
              "\n",
              "    .dataframe thead th {\n",
              "        text-align: right;\n",
              "    }\n",
              "</style>\n",
              "<table border=\"1\" class=\"dataframe\">\n",
              "  <thead>\n",
              "    <tr style=\"text-align: right;\">\n",
              "      <th></th>\n",
              "      <th>Unnamed: 0</th>\n",
              "      <th>Country</th>\n",
              "      <th>PrimaryDatabase</th>\n",
              "      <th>YearsWithThisDatabase</th>\n",
              "      <th>EmploymentStatus</th>\n",
              "      <th>JobTitle</th>\n",
              "      <th>HoursWorkedPerWeek</th>\n",
              "      <th>EmploymentSector</th>\n",
              "      <th>SalaryUSD</th>\n",
              "    </tr>\n",
              "  </thead>\n",
              "  <tbody>\n",
              "    <tr>\n",
              "      <th>0</th>\n",
              "      <td>0</td>\n",
              "      <td>United States</td>\n",
              "      <td>Microsoft SQL Server</td>\n",
              "      <td>10</td>\n",
              "      <td>Full time employee</td>\n",
              "      <td>DBA</td>\n",
              "      <td>45</td>\n",
              "      <td>Private business</td>\n",
              "      <td>200000.0</td>\n",
              "    </tr>\n",
              "    <tr>\n",
              "      <th>1</th>\n",
              "      <td>1</td>\n",
              "      <td>United Kingdom</td>\n",
              "      <td>Microsoft SQL Server</td>\n",
              "      <td>15</td>\n",
              "      <td>Full time employee</td>\n",
              "      <td>DBA</td>\n",
              "      <td>35</td>\n",
              "      <td>Private business</td>\n",
              "      <td>61515.0</td>\n",
              "    </tr>\n",
              "    <tr>\n",
              "      <th>2</th>\n",
              "      <td>2</td>\n",
              "      <td>Germany</td>\n",
              "      <td>Microsoft SQL Server</td>\n",
              "      <td>5</td>\n",
              "      <td>Full time employee</td>\n",
              "      <td>Other</td>\n",
              "      <td>45</td>\n",
              "      <td>Private business</td>\n",
              "      <td>95000.0</td>\n",
              "    </tr>\n",
              "    <tr>\n",
              "      <th>3</th>\n",
              "      <td>3</td>\n",
              "      <td>United Kingdom</td>\n",
              "      <td>Microsoft SQL Server</td>\n",
              "      <td>6</td>\n",
              "      <td>Full time employee</td>\n",
              "      <td>DBA</td>\n",
              "      <td>40</td>\n",
              "      <td>Private business</td>\n",
              "      <td>56000.0</td>\n",
              "    </tr>\n",
              "    <tr>\n",
              "      <th>4</th>\n",
              "      <td>4</td>\n",
              "      <td>France</td>\n",
              "      <td>Microsoft SQL Server</td>\n",
              "      <td>10</td>\n",
              "      <td>Full time employee</td>\n",
              "      <td>DBA</td>\n",
              "      <td>40</td>\n",
              "      <td>Private business</td>\n",
              "      <td>35000.0</td>\n",
              "    </tr>\n",
              "  </tbody>\n",
              "</table>\n",
              "</div>\n",
              "      <button class=\"colab-df-convert\" onclick=\"convertToInteractive('df-e190a814-80d4-4fff-9bfe-f741a87c87f0')\"\n",
              "              title=\"Convert this dataframe to an interactive table.\"\n",
              "              style=\"display:none;\">\n",
              "        \n",
              "  <svg xmlns=\"http://www.w3.org/2000/svg\" height=\"24px\"viewBox=\"0 0 24 24\"\n",
              "       width=\"24px\">\n",
              "    <path d=\"M0 0h24v24H0V0z\" fill=\"none\"/>\n",
              "    <path d=\"M18.56 5.44l.94 2.06.94-2.06 2.06-.94-2.06-.94-.94-2.06-.94 2.06-2.06.94zm-11 1L8.5 8.5l.94-2.06 2.06-.94-2.06-.94L8.5 2.5l-.94 2.06-2.06.94zm10 10l.94 2.06.94-2.06 2.06-.94-2.06-.94-.94-2.06-.94 2.06-2.06.94z\"/><path d=\"M17.41 7.96l-1.37-1.37c-.4-.4-.92-.59-1.43-.59-.52 0-1.04.2-1.43.59L10.3 9.45l-7.72 7.72c-.78.78-.78 2.05 0 2.83L4 21.41c.39.39.9.59 1.41.59.51 0 1.02-.2 1.41-.59l7.78-7.78 2.81-2.81c.8-.78.8-2.07 0-2.86zM5.41 20L4 18.59l7.72-7.72 1.47 1.35L5.41 20z\"/>\n",
              "  </svg>\n",
              "      </button>\n",
              "      \n",
              "  <style>\n",
              "    .colab-df-container {\n",
              "      display:flex;\n",
              "      flex-wrap:wrap;\n",
              "      gap: 12px;\n",
              "    }\n",
              "\n",
              "    .colab-df-convert {\n",
              "      background-color: #E8F0FE;\n",
              "      border: none;\n",
              "      border-radius: 50%;\n",
              "      cursor: pointer;\n",
              "      display: none;\n",
              "      fill: #1967D2;\n",
              "      height: 32px;\n",
              "      padding: 0 0 0 0;\n",
              "      width: 32px;\n",
              "    }\n",
              "\n",
              "    .colab-df-convert:hover {\n",
              "      background-color: #E2EBFA;\n",
              "      box-shadow: 0px 1px 2px rgba(60, 64, 67, 0.3), 0px 1px 3px 1px rgba(60, 64, 67, 0.15);\n",
              "      fill: #174EA6;\n",
              "    }\n",
              "\n",
              "    [theme=dark] .colab-df-convert {\n",
              "      background-color: #3B4455;\n",
              "      fill: #D2E3FC;\n",
              "    }\n",
              "\n",
              "    [theme=dark] .colab-df-convert:hover {\n",
              "      background-color: #434B5C;\n",
              "      box-shadow: 0px 1px 3px 1px rgba(0, 0, 0, 0.15);\n",
              "      filter: drop-shadow(0px 1px 2px rgba(0, 0, 0, 0.3));\n",
              "      fill: #FFFFFF;\n",
              "    }\n",
              "  </style>\n",
              "\n",
              "      <script>\n",
              "        const buttonEl =\n",
              "          document.querySelector('#df-e190a814-80d4-4fff-9bfe-f741a87c87f0 button.colab-df-convert');\n",
              "        buttonEl.style.display =\n",
              "          google.colab.kernel.accessAllowed ? 'block' : 'none';\n",
              "\n",
              "        async function convertToInteractive(key) {\n",
              "          const element = document.querySelector('#df-e190a814-80d4-4fff-9bfe-f741a87c87f0');\n",
              "          const dataTable =\n",
              "            await google.colab.kernel.invokeFunction('convertToInteractive',\n",
              "                                                     [key], {});\n",
              "          if (!dataTable) return;\n",
              "\n",
              "          const docLinkHtml = 'Like what you see? Visit the ' +\n",
              "            '<a target=\"_blank\" href=https://colab.research.google.com/notebooks/data_table.ipynb>data table notebook</a>'\n",
              "            + ' to learn more about interactive tables.';\n",
              "          element.innerHTML = '';\n",
              "          dataTable['output_type'] = 'display_data';\n",
              "          await google.colab.output.renderOutput(dataTable, element);\n",
              "          const docLink = document.createElement('div');\n",
              "          docLink.innerHTML = docLinkHtml;\n",
              "          element.appendChild(docLink);\n",
              "        }\n",
              "      </script>\n",
              "    </div>\n",
              "  </div>\n",
              "  "
            ]
          },
          "metadata": {},
          "execution_count": 48
        }
      ]
    },
    {
      "cell_type": "code",
      "source": [
        "df.drop(columns=['Unnamed: 0'], inplace = True)"
      ],
      "metadata": {
        "id": "CFzJ6jjp5pZ9"
      },
      "execution_count": 49,
      "outputs": []
    },
    {
      "cell_type": "code",
      "source": [
        "df.head()"
      ],
      "metadata": {
        "colab": {
          "base_uri": "https://localhost:8080/",
          "height": 206
        },
        "id": "XPzBRZxn51Ab",
        "outputId": "c29dfba5-5cdf-4b91-ff08-628cf613c7db"
      },
      "execution_count": 50,
      "outputs": [
        {
          "output_type": "execute_result",
          "data": {
            "text/plain": [
              "          Country       PrimaryDatabase  YearsWithThisDatabase  \\\n",
              "0   United States  Microsoft SQL Server                     10   \n",
              "1  United Kingdom  Microsoft SQL Server                     15   \n",
              "2         Germany  Microsoft SQL Server                      5   \n",
              "3  United Kingdom  Microsoft SQL Server                      6   \n",
              "4          France  Microsoft SQL Server                     10   \n",
              "\n",
              "     EmploymentStatus JobTitle  HoursWorkedPerWeek  EmploymentSector  \\\n",
              "0  Full time employee      DBA                  45  Private business   \n",
              "1  Full time employee      DBA                  35  Private business   \n",
              "2  Full time employee    Other                  45  Private business   \n",
              "3  Full time employee      DBA                  40  Private business   \n",
              "4  Full time employee      DBA                  40  Private business   \n",
              "\n",
              "   SalaryUSD  \n",
              "0   200000.0  \n",
              "1    61515.0  \n",
              "2    95000.0  \n",
              "3    56000.0  \n",
              "4    35000.0  "
            ],
            "text/html": [
              "\n",
              "  <div id=\"df-37c79c2f-8d5e-4837-bf5e-1105aee6ba62\">\n",
              "    <div class=\"colab-df-container\">\n",
              "      <div>\n",
              "<style scoped>\n",
              "    .dataframe tbody tr th:only-of-type {\n",
              "        vertical-align: middle;\n",
              "    }\n",
              "\n",
              "    .dataframe tbody tr th {\n",
              "        vertical-align: top;\n",
              "    }\n",
              "\n",
              "    .dataframe thead th {\n",
              "        text-align: right;\n",
              "    }\n",
              "</style>\n",
              "<table border=\"1\" class=\"dataframe\">\n",
              "  <thead>\n",
              "    <tr style=\"text-align: right;\">\n",
              "      <th></th>\n",
              "      <th>Country</th>\n",
              "      <th>PrimaryDatabase</th>\n",
              "      <th>YearsWithThisDatabase</th>\n",
              "      <th>EmploymentStatus</th>\n",
              "      <th>JobTitle</th>\n",
              "      <th>HoursWorkedPerWeek</th>\n",
              "      <th>EmploymentSector</th>\n",
              "      <th>SalaryUSD</th>\n",
              "    </tr>\n",
              "  </thead>\n",
              "  <tbody>\n",
              "    <tr>\n",
              "      <th>0</th>\n",
              "      <td>United States</td>\n",
              "      <td>Microsoft SQL Server</td>\n",
              "      <td>10</td>\n",
              "      <td>Full time employee</td>\n",
              "      <td>DBA</td>\n",
              "      <td>45</td>\n",
              "      <td>Private business</td>\n",
              "      <td>200000.0</td>\n",
              "    </tr>\n",
              "    <tr>\n",
              "      <th>1</th>\n",
              "      <td>United Kingdom</td>\n",
              "      <td>Microsoft SQL Server</td>\n",
              "      <td>15</td>\n",
              "      <td>Full time employee</td>\n",
              "      <td>DBA</td>\n",
              "      <td>35</td>\n",
              "      <td>Private business</td>\n",
              "      <td>61515.0</td>\n",
              "    </tr>\n",
              "    <tr>\n",
              "      <th>2</th>\n",
              "      <td>Germany</td>\n",
              "      <td>Microsoft SQL Server</td>\n",
              "      <td>5</td>\n",
              "      <td>Full time employee</td>\n",
              "      <td>Other</td>\n",
              "      <td>45</td>\n",
              "      <td>Private business</td>\n",
              "      <td>95000.0</td>\n",
              "    </tr>\n",
              "    <tr>\n",
              "      <th>3</th>\n",
              "      <td>United Kingdom</td>\n",
              "      <td>Microsoft SQL Server</td>\n",
              "      <td>6</td>\n",
              "      <td>Full time employee</td>\n",
              "      <td>DBA</td>\n",
              "      <td>40</td>\n",
              "      <td>Private business</td>\n",
              "      <td>56000.0</td>\n",
              "    </tr>\n",
              "    <tr>\n",
              "      <th>4</th>\n",
              "      <td>France</td>\n",
              "      <td>Microsoft SQL Server</td>\n",
              "      <td>10</td>\n",
              "      <td>Full time employee</td>\n",
              "      <td>DBA</td>\n",
              "      <td>40</td>\n",
              "      <td>Private business</td>\n",
              "      <td>35000.0</td>\n",
              "    </tr>\n",
              "  </tbody>\n",
              "</table>\n",
              "</div>\n",
              "      <button class=\"colab-df-convert\" onclick=\"convertToInteractive('df-37c79c2f-8d5e-4837-bf5e-1105aee6ba62')\"\n",
              "              title=\"Convert this dataframe to an interactive table.\"\n",
              "              style=\"display:none;\">\n",
              "        \n",
              "  <svg xmlns=\"http://www.w3.org/2000/svg\" height=\"24px\"viewBox=\"0 0 24 24\"\n",
              "       width=\"24px\">\n",
              "    <path d=\"M0 0h24v24H0V0z\" fill=\"none\"/>\n",
              "    <path d=\"M18.56 5.44l.94 2.06.94-2.06 2.06-.94-2.06-.94-.94-2.06-.94 2.06-2.06.94zm-11 1L8.5 8.5l.94-2.06 2.06-.94-2.06-.94L8.5 2.5l-.94 2.06-2.06.94zm10 10l.94 2.06.94-2.06 2.06-.94-2.06-.94-.94-2.06-.94 2.06-2.06.94z\"/><path d=\"M17.41 7.96l-1.37-1.37c-.4-.4-.92-.59-1.43-.59-.52 0-1.04.2-1.43.59L10.3 9.45l-7.72 7.72c-.78.78-.78 2.05 0 2.83L4 21.41c.39.39.9.59 1.41.59.51 0 1.02-.2 1.41-.59l7.78-7.78 2.81-2.81c.8-.78.8-2.07 0-2.86zM5.41 20L4 18.59l7.72-7.72 1.47 1.35L5.41 20z\"/>\n",
              "  </svg>\n",
              "      </button>\n",
              "      \n",
              "  <style>\n",
              "    .colab-df-container {\n",
              "      display:flex;\n",
              "      flex-wrap:wrap;\n",
              "      gap: 12px;\n",
              "    }\n",
              "\n",
              "    .colab-df-convert {\n",
              "      background-color: #E8F0FE;\n",
              "      border: none;\n",
              "      border-radius: 50%;\n",
              "      cursor: pointer;\n",
              "      display: none;\n",
              "      fill: #1967D2;\n",
              "      height: 32px;\n",
              "      padding: 0 0 0 0;\n",
              "      width: 32px;\n",
              "    }\n",
              "\n",
              "    .colab-df-convert:hover {\n",
              "      background-color: #E2EBFA;\n",
              "      box-shadow: 0px 1px 2px rgba(60, 64, 67, 0.3), 0px 1px 3px 1px rgba(60, 64, 67, 0.15);\n",
              "      fill: #174EA6;\n",
              "    }\n",
              "\n",
              "    [theme=dark] .colab-df-convert {\n",
              "      background-color: #3B4455;\n",
              "      fill: #D2E3FC;\n",
              "    }\n",
              "\n",
              "    [theme=dark] .colab-df-convert:hover {\n",
              "      background-color: #434B5C;\n",
              "      box-shadow: 0px 1px 3px 1px rgba(0, 0, 0, 0.15);\n",
              "      filter: drop-shadow(0px 1px 2px rgba(0, 0, 0, 0.3));\n",
              "      fill: #FFFFFF;\n",
              "    }\n",
              "  </style>\n",
              "\n",
              "      <script>\n",
              "        const buttonEl =\n",
              "          document.querySelector('#df-37c79c2f-8d5e-4837-bf5e-1105aee6ba62 button.colab-df-convert');\n",
              "        buttonEl.style.display =\n",
              "          google.colab.kernel.accessAllowed ? 'block' : 'none';\n",
              "\n",
              "        async function convertToInteractive(key) {\n",
              "          const element = document.querySelector('#df-37c79c2f-8d5e-4837-bf5e-1105aee6ba62');\n",
              "          const dataTable =\n",
              "            await google.colab.kernel.invokeFunction('convertToInteractive',\n",
              "                                                     [key], {});\n",
              "          if (!dataTable) return;\n",
              "\n",
              "          const docLinkHtml = 'Like what you see? Visit the ' +\n",
              "            '<a target=\"_blank\" href=https://colab.research.google.com/notebooks/data_table.ipynb>data table notebook</a>'\n",
              "            + ' to learn more about interactive tables.';\n",
              "          element.innerHTML = '';\n",
              "          dataTable['output_type'] = 'display_data';\n",
              "          await google.colab.output.renderOutput(dataTable, element);\n",
              "          const docLink = document.createElement('div');\n",
              "          docLink.innerHTML = docLinkHtml;\n",
              "          element.appendChild(docLink);\n",
              "        }\n",
              "      </script>\n",
              "    </div>\n",
              "  </div>\n",
              "  "
            ]
          },
          "metadata": {},
          "execution_count": 50
        }
      ]
    },
    {
      "cell_type": "code",
      "source": [
        "df['Country'].unique()"
      ],
      "metadata": {
        "colab": {
          "base_uri": "https://localhost:8080/"
        },
        "id": "bOYV4fBE58iK",
        "outputId": "74c71ee4-c030-4d9a-eb1e-a153f6075e4b"
      },
      "execution_count": 51,
      "outputs": [
        {
          "output_type": "execute_result",
          "data": {
            "text/plain": [
              "array(['United States', 'United Kingdom', 'Germany', 'France',\n",
              "       'Netherlands', 'Belgium', 'Canada', 'Poland', 'Ukraine',\n",
              "       'Australia', 'India', 'Portugal', 'South Africa', 'Greece',\n",
              "       'Israel', 'Sweden', 'Spain', 'Norway', 'Jersey', 'Argentina',\n",
              "       'Russia', 'Switzerland', 'Denmark', 'Ireland', 'Italy', 'Mexico',\n",
              "       'Albania', 'Brazil', 'Romania', 'Uganda', 'Slovenia', 'Bulgaria',\n",
              "       'Turkey', 'Lithuania', 'New Zealand', 'Czech Republic', 'Croatia',\n",
              "       'Finland', 'Austria', 'Hungary', 'El Salvador', 'Bolivia',\n",
              "       'Vietnam', 'China', 'Luxembourg', 'Iceland',\n",
              "       'Serbia and Montenegro', 'Jamaica', 'Moldova', 'Saudi Arabia',\n",
              "       'Paraguay', 'Guernsey', 'Hong Kong', 'Venezuela', 'Philippines',\n",
              "       'Malaysia', 'Macedonia', 'Bermuda', 'Ecuador', 'Nicaragua',\n",
              "       'Puerto Rico', 'Peru', 'Singapore', 'Kenya', 'Syria', 'Colombia',\n",
              "       'United Arab Emirates', 'Costa Rica', 'Cayman Islands',\n",
              "       'Indonesia', 'Bahrain', 'Thailand', 'Slovakia', 'Pakistan',\n",
              "       'Malta', 'Jordan', 'Belarus', 'Estonia', 'Latvia', 'Nepal',\n",
              "       'Ghana', 'Dominican Republic', 'Uruguay', 'Guatemala', 'Taiwan'],\n",
              "      dtype=object)"
            ]
          },
          "metadata": {},
          "execution_count": 51
        }
      ]
    },
    {
      "cell_type": "code",
      "source": [
        "df['PrimaryDatabase'].unique()"
      ],
      "metadata": {
        "colab": {
          "base_uri": "https://localhost:8080/"
        },
        "id": "wMqydAA46dua",
        "outputId": "69da3d22-55db-4e41-9189-abd6899cd3a7"
      },
      "execution_count": 52,
      "outputs": [
        {
          "output_type": "execute_result",
          "data": {
            "text/plain": [
              "array(['Microsoft SQL Server', 'Azure SQL DB', 'MongoDB', 'PostgreSQL',\n",
              "       'Oracle', 'Other', 'SAP', 'Microsoft Access', 'DB2',\n",
              "       'MySQL/MariaDB', 'Teradata', 'Amazon RDS', 'Elasticsearch',\n",
              "       'Cassandra', 'SQLite'], dtype=object)"
            ]
          },
          "metadata": {},
          "execution_count": 52
        }
      ]
    },
    {
      "cell_type": "code",
      "source": [
        "df['EmploymentStatus'].unique()"
      ],
      "metadata": {
        "colab": {
          "base_uri": "https://localhost:8080/"
        },
        "id": "xKyRS5bQ6hAi",
        "outputId": "05cdfeef-69b9-48b9-a7f3-699046ae009f"
      },
      "execution_count": 53,
      "outputs": [
        {
          "output_type": "execute_result",
          "data": {
            "text/plain": [
              "array(['Full time employee', 'Independent', 'Others', 'Part time'],\n",
              "      dtype=object)"
            ]
          },
          "metadata": {},
          "execution_count": 53
        }
      ]
    },
    {
      "cell_type": "code",
      "source": [
        "df['JobTitle'].unique()"
      ],
      "metadata": {
        "colab": {
          "base_uri": "https://localhost:8080/"
        },
        "id": "PUcqH6YW6lde",
        "outputId": "ec5239a4-b90e-4d0e-8957-4f7e84053051"
      },
      "execution_count": 54,
      "outputs": [
        {
          "output_type": "execute_result",
          "data": {
            "text/plain": [
              "array(['DBA', 'Other', 'Developer', 'Engineer', 'Architect', 'Analyst',\n",
              "       'Manager', 'Data Scientist', 'Database Engineer', 'Technician ',\n",
              "       'Database Specialist', 'Consultant', 'Systems Administrator',\n",
              "       'Sales'], dtype=object)"
            ]
          },
          "metadata": {},
          "execution_count": 54
        }
      ]
    },
    {
      "cell_type": "code",
      "source": [
        "df['EmploymentSector'].unique()"
      ],
      "metadata": {
        "colab": {
          "base_uri": "https://localhost:8080/"
        },
        "id": "N-hn5BM-6wy_",
        "outputId": "9671479e-8bfc-4432-e79f-794c6896b8d7"
      },
      "execution_count": 55,
      "outputs": [
        {
          "output_type": "execute_result",
          "data": {
            "text/plain": [
              "array(['Private business', 'Government', 'Student', 'Education',\n",
              "       'Non-profit'], dtype=object)"
            ]
          },
          "metadata": {},
          "execution_count": 55
        }
      ]
    },
    {
      "cell_type": "code",
      "source": [
        "sns.countplot(df['EmploymentSector'])"
      ],
      "metadata": {
        "colab": {
          "base_uri": "https://localhost:8080/",
          "height": 355
        },
        "id": "FRxR3OUY655x",
        "outputId": "e85e0d26-651b-47e8-c629-12244069e576"
      },
      "execution_count": 56,
      "outputs": [
        {
          "output_type": "stream",
          "name": "stderr",
          "text": [
            "/usr/local/lib/python3.7/dist-packages/seaborn/_decorators.py:43: FutureWarning: Pass the following variable as a keyword arg: x. From version 0.12, the only valid positional argument will be `data`, and passing other arguments without an explicit keyword will result in an error or misinterpretation.\n",
            "  FutureWarning\n"
          ]
        },
        {
          "output_type": "execute_result",
          "data": {
            "text/plain": [
              "<matplotlib.axes._subplots.AxesSubplot at 0x7fafcf2c8890>"
            ]
          },
          "metadata": {},
          "execution_count": 56
        },
        {
          "output_type": "display_data",
          "data": {
            "text/plain": [
              "<Figure size 432x288 with 1 Axes>"
            ],
            "image/png": "[encoded data removed]"
          },
          "metadata": {
            "needs_background": "light"
          }
        }
      ]
    },
    {
      "cell_type": "code",
      "source": [
        "sns.countplot(df['EmploymentStatus'])"
      ],
      "metadata": {
        "colab": {
          "base_uri": "https://localhost:8080/",
          "height": 351
        },
        "id": "-1spdkUG7A9r",
        "outputId": "6da2b35e-2d16-4266-92ef-436068d27b8b"
      },
      "execution_count": 57,
      "outputs": [
        {
          "output_type": "stream",
          "name": "stderr",
          "text": [
            "/usr/local/lib/python3.7/dist-packages/seaborn/_decorators.py:43: FutureWarning: Pass the following variable as a keyword arg: x. From version 0.12, the only valid positional argument will be `data`, and passing other arguments without an explicit keyword will result in an error or misinterpretation.\n",
            "  FutureWarning\n"
          ]
        },
        {
          "output_type": "execute_result",
          "data": {
            "text/plain": [
              "<matplotlib.axes._subplots.AxesSubplot at 0x7fafce6b9e10>"
            ]
          },
          "metadata": {},
          "execution_count": 57
        },
        {
          "output_type": "display_data",
          "data": {
            "text/plain": [
              "<Figure size 432x288 with 1 Axes>"
            ],
            "image/png": "[encoded data removed]"
          },
          "metadata": {
            "needs_background": "light"
          }
        }
      ]
    },
    {
      "cell_type": "code",
      "source": [
        "sns.histplot(np.log(df['SalaryUSD']), kde=True)"
      ],
      "metadata": {
        "colab": {
          "base_uri": "https://localhost:8080/",
          "height": 333
        },
        "id": "Nr6J2MNa7YTj",
        "outputId": "10f8e698-7cfa-4615-8704-a313655e478b"
      },
      "execution_count": 58,
      "outputs": [
        {
          "output_type": "stream",
          "name": "stderr",
          "text": [
            "/usr/local/lib/python3.7/dist-packages/pandas/core/arraylike.py:364: RuntimeWarning: divide by zero encountered in log\n",
            "  result = getattr(ufunc, method)(*inputs, **kwargs)\n"
          ]
        },
        {
          "output_type": "execute_result",
          "data": {
            "text/plain": [
              "<matplotlib.axes._subplots.AxesSubplot at 0x7fafce634c90>"
            ]
          },
          "metadata": {},
          "execution_count": 58
        },
        {
          "output_type": "display_data",
          "data": {
            "text/plain": [
              "<Figure size 432x288 with 1 Axes>"
            ],
            "image/png": "[encoded data removed]"
          },
          "metadata": {
            "needs_background": "light"
          }
        }
      ]
    },
    {
      "cell_type": "code",
      "source": [
        "## Z Score defines how many standard deviation away a datapoint is from the mean. \n",
        "\n",
        "df['zscore'] = (df.SalaryUSD-df.SalaryUSD.mean())/df.SalaryUSD.std() # Adding a zcore column to our dataframe\n"
      ],
      "metadata": {
        "id": "ILNwKJuV7mrF"
      },
      "execution_count": 59,
      "outputs": []
    },
    {
      "cell_type": "code",
      "source": [
        "df.sample(5)"
      ],
      "metadata": {
        "colab": {
          "base_uri": "https://localhost:8080/",
          "height": 337
        },
        "id": "UrOzINbz8Fk8",
        "outputId": "b5f6122a-0a74-48e9-ca7c-9de9b9e47e96"
      },
      "execution_count": 60,
      "outputs": [
        {
          "output_type": "execute_result",
          "data": {
            "text/plain": [
              "            Country       PrimaryDatabase  YearsWithThisDatabase  \\\n",
              "2971  United States                Oracle                      4   \n",
              "3330  United States  Microsoft SQL Server                     18   \n",
              "3482  United States  Microsoft SQL Server                     17   \n",
              "2479  United States            PostgreSQL                      0   \n",
              "539         Denmark  Microsoft SQL Server                     20   \n",
              "\n",
              "        EmploymentStatus   JobTitle  HoursWorkedPerWeek  EmploymentSector  \\\n",
              "2971  Full time employee  Developer                  45  Private business   \n",
              "3330  Full time employee  Architect                  42  Private business   \n",
              "3482  Full time employee        DBA                  42  Private business   \n",
              "2479  Full time employee    Analyst                  45  Private business   \n",
              "539   Full time employee        DBA                  40  Private business   \n",
              "\n",
              "      SalaryUSD    zscore  \n",
              "2971   105000.0  0.211059  \n",
              "3330    98000.0  0.089889  \n",
              "3482   118560.0  0.445783  \n",
              "2479    88000.0 -0.083212  \n",
              "539    120000.0  0.470709  "
            ],
            "text/html": [
              "\n",
              "  <div id=\"df-e109e95d-a0b5-49a8-8a3b-64e6e7e8b847\">\n",
              "    <div class=\"colab-df-container\">\n",
              "      <div>\n",
              "<style scoped>\n",
              "    .dataframe tbody tr th:only-of-type {\n",
              "        vertical-align: middle;\n",
              "    }\n",
              "\n",
              "    .dataframe tbody tr th {\n",
              "        vertical-align: top;\n",
              "    }\n",
              "\n",
              "    .dataframe thead th {\n",
              "        text-align: right;\n",
              "    }\n",
              "</style>\n",
              "<table border=\"1\" class=\"dataframe\">\n",
              "  <thead>\n",
              "    <tr style=\"text-align: right;\">\n",
              "      <th></th>\n",
              "      <th>Country</th>\n",
              "      <th>PrimaryDatabase</th>\n",
              "      <th>YearsWithThisDatabase</th>\n",
              "      <th>EmploymentStatus</th>\n",
              "      <th>JobTitle</th>\n",
              "      <th>HoursWorkedPerWeek</th>\n",
              "      <th>EmploymentSector</th>\n",
              "      <th>SalaryUSD</th>\n",
              "      <th>zscore</th>\n",
              "    </tr>\n",
              "  </thead>\n",
              "  <tbody>\n",
              "    <tr>\n",
              "      <th>2971</th>\n",
              "      <td>United States</td>\n",
              "      <td>Oracle</td>\n",
              "      <td>4</td>\n",
              "      <td>Full time employee</td>\n",
              "      <td>Developer</td>\n",
              "      <td>45</td>\n",
              "      <td>Private business</td>\n",
              "      <td>105000.0</td>\n",
              "      <td>0.211059</td>\n",
              "    </tr>\n",
              "    <tr>\n",
              "      <th>3330</th>\n",
              "      <td>United States</td>\n",
              "      <td>Microsoft SQL Server</td>\n",
              "      <td>18</td>\n",
              "      <td>Full time employee</td>\n",
              "      <td>Architect</td>\n",
              "      <td>42</td>\n",
              "      <td>Private business</td>\n",
              "      <td>98000.0</td>\n",
              "      <td>0.089889</td>\n",
              "    </tr>\n",
              "    <tr>\n",
              "      <th>3482</th>\n",
              "      <td>United States</td>\n",
              "      <td>Microsoft SQL Server</td>\n",
              "      <td>17</td>\n",
              "      <td>Full time employee</td>\n",
              "      <td>DBA</td>\n",
              "      <td>42</td>\n",
              "      <td>Private business</td>\n",
              "      <td>118560.0</td>\n",
              "      <td>0.445783</td>\n",
              "    </tr>\n",
              "    <tr>\n",
              "      <th>2479</th>\n",
              "      <td>United States</td>\n",
              "      <td>PostgreSQL</td>\n",
              "      <td>0</td>\n",
              "      <td>Full time employee</td>\n",
              "      <td>Analyst</td>\n",
              "      <td>45</td>\n",
              "      <td>Private business</td>\n",
              "      <td>88000.0</td>\n",
              "      <td>-0.083212</td>\n",
              "    </tr>\n",
              "    <tr>\n",
              "      <th>539</th>\n",
              "      <td>Denmark</td>\n",
              "      <td>Microsoft SQL Server</td>\n",
              "      <td>20</td>\n",
              "      <td>Full time employee</td>\n",
              "      <td>DBA</td>\n",
              "      <td>40</td>\n",
              "      <td>Private business</td>\n",
              "      <td>120000.0</td>\n",
              "      <td>0.470709</td>\n",
              "    </tr>\n",
              "  </tbody>\n",
              "</table>\n",
              "</div>\n",
              "      <button class=\"colab-df-convert\" onclick=\"convertToInteractive('df-e109e95d-a0b5-49a8-8a3b-64e6e7e8b847')\"\n",
              "              title=\"Convert this dataframe to an interactive table.\"\n",
              "              style=\"display:none;\">\n",
              "        \n",
              "  <svg xmlns=\"http://www.w3.org/2000/svg\" height=\"24px\"viewBox=\"0 0 24 24\"\n",
              "       width=\"24px\">\n",
              "    <path d=\"M0 0h24v24H0V0z\" fill=\"none\"/>\n",
              "    <path d=\"M18.56 5.44l.94 2.06.94-2.06 2.06-.94-2.06-.94-.94-2.06-.94 2.06-2.06.94zm-11 1L8.5 8.5l.94-2.06 2.06-.94-2.06-.94L8.5 2.5l-.94 2.06-2.06.94zm10 10l.94 2.06.94-2.06 2.06-.94-2.06-.94-.94-2.06-.94 2.06-2.06.94z\"/><path d=\"M17.41 7.96l-1.37-1.37c-.4-.4-.92-.59-1.43-.59-.52 0-1.04.2-1.43.59L10.3 9.45l-7.72 7.72c-.78.78-.78 2.05 0 2.83L4 21.41c.39.39.9.59 1.41.59.51 0 1.02-.2 1.41-.59l7.78-7.78 2.81-2.81c.8-.78.8-2.07 0-2.86zM5.41 20L4 18.59l7.72-7.72 1.47 1.35L5.41 20z\"/>\n",
              "  </svg>\n",
              "      </button>\n",
              "      \n",
              "  <style>\n",
              "    .colab-df-container {\n",
              "      display:flex;\n",
              "      flex-wrap:wrap;\n",
              "      gap: 12px;\n",
              "    }\n",
              "\n",
              "    .colab-df-convert {\n",
              "      background-color: #E8F0FE;\n",
              "      border: none;\n",
              "      border-radius: 50%;\n",
              "      cursor: pointer;\n",
              "      display: none;\n",
              "      fill: #1967D2;\n",
              "      height: 32px;\n",
              "      padding: 0 0 0 0;\n",
              "      width: 32px;\n",
              "    }\n",
              "\n",
              "    .colab-df-convert:hover {\n",
              "      background-color: #E2EBFA;\n",
              "      box-shadow: 0px 1px 2px rgba(60, 64, 67, 0.3), 0px 1px 3px 1px rgba(60, 64, 67, 0.15);\n",
              "      fill: #174EA6;\n",
              "    }\n",
              "\n",
              "    [theme=dark] .colab-df-convert {\n",
              "      background-color: #3B4455;\n",
              "      fill: #D2E3FC;\n",
              "    }\n",
              "\n",
              "    [theme=dark] .colab-df-convert:hover {\n",
              "      background-color: #434B5C;\n",
              "      box-shadow: 0px 1px 3px 1px rgba(0, 0, 0, 0.15);\n",
              "      filter: drop-shadow(0px 1px 2px rgba(0, 0, 0, 0.3));\n",
              "      fill: #FFFFFF;\n",
              "    }\n",
              "  </style>\n",
              "\n",
              "      <script>\n",
              "        const buttonEl =\n",
              "          document.querySelector('#df-e109e95d-a0b5-49a8-8a3b-64e6e7e8b847 button.colab-df-convert');\n",
              "        buttonEl.style.display =\n",
              "          google.colab.kernel.accessAllowed ? 'block' : 'none';\n",
              "\n",
              "        async function convertToInteractive(key) {\n",
              "          const element = document.querySelector('#df-e109e95d-a0b5-49a8-8a3b-64e6e7e8b847');\n",
              "          const dataTable =\n",
              "            await google.colab.kernel.invokeFunction('convertToInteractive',\n",
              "                                                     [key], {});\n",
              "          if (!dataTable) return;\n",
              "\n",
              "          const docLinkHtml = 'Like what you see? Visit the ' +\n",
              "            '<a target=\"_blank\" href=https://colab.research.google.com/notebooks/data_table.ipynb>data table notebook</a>'\n",
              "            + ' to learn more about interactive tables.';\n",
              "          element.innerHTML = '';\n",
              "          dataTable['output_type'] = 'display_data';\n",
              "          await google.colab.output.renderOutput(dataTable, element);\n",
              "          const docLink = document.createElement('div');\n",
              "          docLink.innerHTML = docLinkHtml;\n",
              "          element.appendChild(docLink);\n",
              "        }\n",
              "      </script>\n",
              "    </div>\n",
              "  </div>\n",
              "  "
            ]
          },
          "metadata": {},
          "execution_count": 60
        }
      ]
    },
    {
      "cell_type": "code",
      "source": [
        "sns.histplot(np.log(df['SalaryUSD']), kde=True)"
      ],
      "metadata": {
        "colab": {
          "base_uri": "https://localhost:8080/",
          "height": 333
        },
        "id": "C-YqAVwQ8HGm",
        "outputId": "2719e218-9c1e-476f-f17c-9eaccfece728"
      },
      "execution_count": 61,
      "outputs": [
        {
          "output_type": "stream",
          "name": "stderr",
          "text": [
            "/usr/local/lib/python3.7/dist-packages/pandas/core/arraylike.py:364: RuntimeWarning: divide by zero encountered in log\n",
            "  result = getattr(ufunc, method)(*inputs, **kwargs)\n"
          ]
        },
        {
          "output_type": "execute_result",
          "data": {
            "text/plain": [
              "<matplotlib.axes._subplots.AxesSubplot at 0x7fafce366550>"
            ]
          },
          "metadata": {},
          "execution_count": 61
        },
        {
          "output_type": "display_data",
          "data": {
            "text/plain": [
              "<Figure size 432x288 with 1 Axes>"
            ],
            "image/png": "[encoded data removed]"
          },
          "metadata": {
            "needs_background": "light"
          }
        }
      ]
    }
  ]
}
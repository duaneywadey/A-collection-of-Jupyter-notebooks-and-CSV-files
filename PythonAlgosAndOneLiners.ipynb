{
  "nbformat": 4,
  "nbformat_minor": 0,
  "metadata": {
    "colab": {
      "provenance": [],
      "collapsed_sections": [],
      "authorship_tag": "ABX9TyO0Ff6NN8ehEPL0kfcPrCvm",
      "include_colab_link": true
    },
    "kernelspec": {
      "name": "python3",
      "display_name": "Python 3"
    },
    "language_info": {
      "name": "python"
    }
  },
  "cells": [
    {
      "cell_type": "markdown",
      "metadata": {
        "id": "view-in-github",
        "colab_type": "text"
      },
      "source": [
        "<a href=\"https://colab.research.google.com/github/duaneywadey/A-collection-of-Jupyter-notebooks-and-CSV-files/blob/data-structures-and-algorithms-review/PythonAlgosAndOneLiners.ipynb\" target=\"_parent\"><img src=\"https://colab.research.google.com/assets/colab-badge.svg\" alt=\"Open In Colab\"/></a>"
      ]
    },
    {
      "cell_type": "code",
      "execution_count": 8,
      "metadata": {
        "colab": {
          "base_uri": "https://localhost:8080/"
        },
        "id": "ChrLFW3OHEJ3",
        "outputId": "b6b6d33b-0812-4617-9dae-f2b33fc11c72"
      },
      "outputs": [
        {
          "output_type": "stream",
          "name": "stdout",
          "text": [
            "[5, 6, 5, 6, 4, 6]\n"
          ]
        }
      ],
      "source": [
        "# LIST COMPREHENSION STRUCTURE\n",
        "\n",
        "# [<random>, <for loop>, <condition>]\n",
        "\n",
        "import random \n",
        "mylist=[random.randint(1, 6) for i in range(6)]\n",
        "print(mylist)"
      ]
    },
    {
      "cell_type": "code",
      "source": [
        "# List comprehension examples\n",
        "\n",
        "fruits = [\"apple\", \"banana\", \"cherry\", \"kiwi\", \"mango\"]\n",
        "newlist = [x for x in fruits if x != 'apple']\n",
        "newlistagain = [y for y in fruits if y!= 'banana']\n",
        "print(newlistagain)"
      ],
      "metadata": {
        "colab": {
          "base_uri": "https://localhost:8080/"
        },
        "id": "5h6_91ZkJPyd",
        "outputId": "68af8de6-ca7f-4436-c18b-f9404f4338b4"
      },
      "execution_count": 10,
      "outputs": [
        {
          "output_type": "stream",
          "name": "stdout",
          "text": [
            "['apple', 'cherry', 'kiwi', 'mango']\n"
          ]
        }
      ]
    },
    {
      "cell_type": "code",
      "source": [
        "def removeApple(exampleList):\n",
        "  exampleList = [x for x in exampleList if x!='apple']\n",
        "  return exampleList\n",
        "\n",
        "removeApple(fruits)"
      ],
      "metadata": {
        "colab": {
          "base_uri": "https://localhost:8080/"
        },
        "id": "B2nJI_j_Jr7N",
        "outputId": "ef01164f-511c-40da-d2db-2c96640b408f"
      },
      "execution_count": 14,
      "outputs": [
        {
          "output_type": "execute_result",
          "data": {
            "text/plain": [
              "['banana', 'cherry', 'kiwi', 'mango']"
            ]
          },
          "metadata": {},
          "execution_count": 14
        }
      ]
    },
    {
      "cell_type": "code",
      "source": [
        "mynewlist = [random.randint(1,100) for x in range(10)]\n",
        "\n",
        "def removeOdd(exampleList):\n",
        "  exampleList = [x for x in exampleList if x%2==0]\n",
        "  return exampleList\n",
        "\n",
        "removeOdd(mynewlist)"
      ],
      "metadata": {
        "colab": {
          "base_uri": "https://localhost:8080/"
        },
        "id": "Nm_2gV0CKx1-",
        "outputId": "08361460-b4b4-494d-dfd0-a9d9299723af"
      },
      "execution_count": 26,
      "outputs": [
        {
          "output_type": "execute_result",
          "data": {
            "text/plain": [
              "[100, 6, 92, 6, 42]"
            ]
          },
          "metadata": {},
          "execution_count": 26
        }
      ]
    },
    {
      "cell_type": "code",
      "source": [
        "\n",
        "# Removing vowels from the elements in a list \n",
        "\n",
        "fruits = [\"apple\", \"banana\", \"cherry\", \"kiwi\", \"mango\"]\n",
        "\n",
        "def removeVowels(exList):\n",
        "  vowels= ['a','e','i','o','u']\n",
        "  for i in range(len(exList)):\n",
        "    for v in vowels:\n",
        "      exList[i] = exList[i].replace(v, '')\n",
        "  return exList\n",
        "\n",
        "removeVowels(fruits) "
      ],
      "metadata": {
        "colab": {
          "base_uri": "https://localhost:8080/"
        },
        "id": "_Efq_emFLzXA",
        "outputId": "b5e86659-8d94-4039-baee-93049c0c2a82"
      },
      "execution_count": 33,
      "outputs": [
        {
          "output_type": "execute_result",
          "data": {
            "text/plain": [
              "['ppl', 'bnn', 'chrry', 'kw', 'mng']"
            ]
          },
          "metadata": {},
          "execution_count": 33
        }
      ]
    },
    {
      "cell_type": "code",
      "source": [
        "# Most frequent element in a list\n",
        "numbers = [9, 4, 5, 4,5, 5, 5, 5, 4, 5, 9, 5, 4, 8, 9, 10,4,4,4,4,4]\n",
        "most_frequent_element = max(set(numbers), key=numbers.count)\n",
        "print(most_frequent_element)\n",
        "\n",
        "# Prints all unique elements from the list\n",
        "print(set(numbers))"
      ],
      "metadata": {
        "colab": {
          "base_uri": "https://localhost:8080/"
        },
        "id": "biOds2VtUKQo",
        "outputId": "e34d403e-dfe6-4db8-b972-e1a8edf6ad8f"
      },
      "execution_count": 39,
      "outputs": [
        {
          "output_type": "stream",
          "name": "stdout",
          "text": [
            "4\n",
            "{4, 5, 8, 9, 10}\n"
          ]
        }
      ]
    },
    {
      "cell_type": "code",
      "source": [
        "# Squaring randon numbers in a list\n",
        "\n",
        "getSquared = [random.randint(1,100) for i in range(1,10)]\n",
        "getSquaredFinal = [(x)*(x) for x in getSquared]\n",
        "print(getSquaredFinal)"
      ],
      "metadata": {
        "colab": {
          "base_uri": "https://localhost:8080/"
        },
        "id": "h2kO43RZalur",
        "outputId": "65c7b5ac-0e24-4ea7-d3b7-df899c40f8f1"
      },
      "execution_count": 59,
      "outputs": [
        {
          "output_type": "stream",
          "name": "stdout",
          "text": [
            "[3600, 7396, 1849, 324, 2916, 1764, 441, 484, 676]\n"
          ]
        }
      ]
    },
    {
      "cell_type": "code",
      "source": [
        "# Lambda function\n",
        "\n",
        "randomList = [random.randint(1,10) for i in range(1,20)]\n",
        "a = list(map(lambda x: x if x%2==0 else x+1, randomList))\n",
        "print(\"Original list: \", randomList)\n",
        "print(a)"
      ],
      "metadata": {
        "colab": {
          "base_uri": "https://localhost:8080/"
        },
        "id": "TVjcg1Rze7u5",
        "outputId": "64bba99c-82c3-402a-95d6-e7438786001d"
      },
      "execution_count": 67,
      "outputs": [
        {
          "output_type": "stream",
          "name": "stdout",
          "text": [
            "Original list:  [4, 8, 10, 3, 10, 7, 4, 9, 9, 10, 5, 7, 6, 1, 1, 5, 1, 8, 10]\n",
            "[4, 8, 10, 4, 10, 8, 4, 10, 10, 10, 6, 8, 6, 2, 2, 6, 2, 8, 10]\n"
          ]
        }
      ]
    },
    {
      "cell_type": "code",
      "source": [
        "# Python Slicing\n",
        "\n",
        "li = [x for x in range(1,20+1)]\n",
        "print(li)"
      ],
      "metadata": {
        "colab": {
          "base_uri": "https://localhost:8080/"
        },
        "id": "aYUQRIbHi-X_",
        "outputId": "77e10136-421f-4a21-99f1-f11058df204a"
      },
      "execution_count": 78,
      "outputs": [
        {
          "output_type": "stream",
          "name": "stdout",
          "text": [
            "[1, 2, 3, 4, 5, 6, 7, 8, 9, 10, 11, 12, 13, 14, 15, 16, 17, 18, 19, 20]\n"
          ]
        }
      ]
    },
    {
      "cell_type": "code",
      "source": [
        "# Starting from index zero\n",
        "\n",
        "print(li[0:]) "
      ],
      "metadata": {
        "colab": {
          "base_uri": "https://localhost:8080/"
        },
        "id": "HguEnohok-xl",
        "outputId": "057928ab-1710-481c-f77e-623cad94fd43"
      },
      "execution_count": 82,
      "outputs": [
        {
          "output_type": "stream",
          "name": "stdout",
          "text": [
            "[1, 2, 3, 4, 5, 6, 7, 8, 9, 10, 11, 12, 13, 14, 15, 16, 17, 18, 19, 20]\n"
          ]
        }
      ]
    },
    {
      "cell_type": "code",
      "source": [
        "# Starting from index four\n",
        "\n",
        "print(li[4:]) "
      ],
      "metadata": {
        "colab": {
          "base_uri": "https://localhost:8080/"
        },
        "id": "Z5q6jBbtlE6i",
        "outputId": "320fc920-622b-49c2-cc25-9f79f04bdc9c"
      },
      "execution_count": 83,
      "outputs": [
        {
          "output_type": "stream",
          "name": "stdout",
          "text": [
            "[5, 6, 7, 8, 9, 10, 11, 12, 13, 14, 15, 16, 17, 18, 19, 20]\n"
          ]
        }
      ]
    },
    {
      "cell_type": "code",
      "source": [
        "# Starting from index four to index six - 1\n",
        "\n",
        "print(li[4:6])"
      ],
      "metadata": {
        "colab": {
          "base_uri": "https://localhost:8080/"
        },
        "id": "yhKQ2ks-lzT-",
        "outputId": "b558a890-b81b-4482-ee72-6a43ee5acd4a"
      },
      "execution_count": 87,
      "outputs": [
        {
          "output_type": "stream",
          "name": "stdout",
          "text": [
            "[5, 6]\n"
          ]
        }
      ]
    },
    {
      "cell_type": "code",
      "source": [
        "# Start from beginning up to end (minus 5)\n",
        "\n",
        "print(li[:-5])"
      ],
      "metadata": {
        "colab": {
          "base_uri": "https://localhost:8080/"
        },
        "id": "wgQWAt68mAHX",
        "outputId": "8735d3cb-6e9d-437d-a26f-694dc913e731"
      },
      "execution_count": 95,
      "outputs": [
        {
          "output_type": "stream",
          "name": "stdout",
          "text": [
            "[1, 2, 3, 4, 5, 6, 7, 8, 9, 10, 11, 12, 13, 14, 15]\n"
          ]
        }
      ]
    },
    {
      "cell_type": "code",
      "source": [
        "# Double all numbers using map and lambda\n",
        "\n",
        "numbers = (1, 2, 3, 4)\n",
        "\n",
        "result = map(lambda x: x + x, numbers)\n",
        "anotherResult = map(lambda x: x*x, numbers)\n",
        "print(list(anotherResult))\n"
      ],
      "metadata": {
        "colab": {
          "base_uri": "https://localhost:8080/"
        },
        "id": "rvVIwsD8mzWh",
        "outputId": "dad9c67a-dc6e-48b9-8ccb-3bb768c1b664"
      },
      "execution_count": 98,
      "outputs": [
        {
          "output_type": "stream",
          "name": "stdout",
          "text": [
            "[1, 4, 9, 16]\n"
          ]
        }
      ]
    },
    {
      "cell_type": "code",
      "source": [
        "# Lambda with strings\n",
        "\n",
        "concatList = ['Ivan', 'Avian', 'Dwayne']\n",
        "concatList2 = ['Duane', 'Cruz', 'Santos']\n",
        "\n",
        "result = map(lambda x,y: x+ \" \" + y, concatList, concatList2)\n",
        "print(list(result))"
      ],
      "metadata": {
        "colab": {
          "base_uri": "https://localhost:8080/"
        },
        "id": "Qgxju6nypGnb",
        "outputId": "2813a743-74bb-4878-df15-93f0738c886d"
      },
      "execution_count": 101,
      "outputs": [
        {
          "output_type": "stream",
          "name": "stdout",
          "text": [
            "['Ivan Duane', 'Avian Cruz', 'Dwayne Santos']\n"
          ]
        }
      ]
    },
    {
      "cell_type": "code",
      "source": [],
      "metadata": {
        "id": "vNOtGT1vp68D"
      },
      "execution_count": null,
      "outputs": []
    }
  ]
}
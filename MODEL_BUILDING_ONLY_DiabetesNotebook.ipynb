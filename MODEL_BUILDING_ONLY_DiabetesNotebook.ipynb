{
  "nbformat": 4,
  "nbformat_minor": 0,
  "metadata": {
    "colab": {
      "provenance": [],
      "authorship_tag": "ABX9TyPGTnZuBlnGaTNErqiGQUpN",
      "include_colab_link": true
    },
    "kernelspec": {
      "name": "python3",
      "display_name": "Python 3"
    },
    "language_info": {
      "name": "python"
    }
  },
  "cells": [
    {
      "cell_type": "markdown",
      "metadata": {
        "id": "view-in-github",
        "colab_type": "text"
      },
      "source": [
        "<a href=\"https://colab.research.google.com/github/duaneywadey/A-collection-of-Jupyter-notebooks-and-CSV-files/blob/collection-of-models/MODEL_BUILDING_ONLY_DiabetesNotebook.ipynb\" target=\"_parent\"><img src=\"https://colab.research.google.com/assets/colab-badge.svg\" alt=\"Open In Colab\"/></a>"
      ]
    },
    {
      "cell_type": "code",
      "execution_count": 4,
      "metadata": {
        "id": "mXw0BcYgv_kh"
      },
      "outputs": [],
      "source": [
        "# Importing essential libraries\n",
        "import numpy as np\n",
        "import pandas as pd\n",
        "import pickle\n",
        "\n",
        "# Loading the dataset\n",
        "df = pd.read_csv('https://raw.githubusercontent.com/duaneywadey/Diabetes-Detection-Model/master/diabetes.csv')\n",
        "\n",
        "# Renaming DiabetesPedigreeFunction as DPF\n",
        "df = df.rename(columns={'DiabetesPedigreeFunction':'DPF'})\n",
        "\n",
        "# Replacing the 0 values from ['Glucose','BloodPressure','SkinThickness','Insulin','BMI'] by NaN\n",
        "df_copy = df.copy(deep=True)\n",
        "df_copy[['Glucose','BloodPressure','SkinThickness','Insulin','BMI']] = df_copy[['Glucose','BloodPressure','SkinThickness','Insulin','BMI']].replace(0,np.NaN)\n",
        "\n",
        "# Replacing NaN value by mean, median depending upon distribution\n",
        "df_copy['Glucose'].fillna(df_copy['Glucose'].mean(), inplace=True)\n",
        "df_copy['BloodPressure'].fillna(df_copy['BloodPressure'].mean(), inplace=True)\n",
        "df_copy['SkinThickness'].fillna(df_copy['SkinThickness'].median(), inplace=True)\n",
        "df_copy['Insulin'].fillna(df_copy['Insulin'].median(), inplace=True)\n",
        "df_copy['BMI'].fillna(df_copy['BMI'].median(), inplace=True)\n",
        "\n",
        "# Model Building\n",
        "from sklearn.model_selection import train_test_split\n",
        "X = df.drop(columns='Outcome')\n",
        "y = df['Outcome']\n",
        "X_train, X_test, y_train, y_test = train_test_split(X, y, test_size=0.20, random_state=0)\n"
      ]
    },
    {
      "cell_type": "code",
      "source": [
        "from sklearn.linear_model import LogisticRegression\n",
        "from sklearn.svm import SVC\n",
        "from sklearn.neural_network import MLPClassifier\n",
        "from sklearn.naive_bayes import GaussianNB\n",
        "from sklearn.tree import DecisionTreeClassifier\n",
        "from sklearn.neighbors import KNeighborsClassifier\n",
        "\n",
        "# Model Selection\n",
        "\n",
        "# Creating model objects\n",
        "\n",
        "log_model = LogisticRegression()\n",
        "svm_model = SVC(C=1.0, kernel='rbf')\n",
        "nm_model = MLPClassifier(hidden_layer_sizes=(128,128))\n",
        "nv_bayes = GaussianNB()\n",
        "d_tree = DecisionTreeClassifier()\n",
        "k_nearest = KNeighborsClassifier()\n"
      ],
      "metadata": {
        "id": "LcB-mZjCqHYZ"
      },
      "execution_count": 5,
      "outputs": []
    },
    {
      "cell_type": "code",
      "source": [
        "models = [log_model, svm_model, nv_bayes, d_tree, k_nearest]\n",
        "print(\"Test Data\")\n",
        "for m in models:\n",
        "  print(\"\\n\",m.fit(X_test, y_test))\n",
        "  print(m.score(X_test, y_test))\n"
      ],
      "metadata": {
        "colab": {
          "base_uri": "https://localhost:8080/"
        },
        "id": "DFmP3pHUqQfG",
        "outputId": "dc7d0311-5329-4189-e1f1-d7d850112276"
      },
      "execution_count": 6,
      "outputs": [
        {
          "output_type": "stream",
          "name": "stdout",
          "text": [
            "Test Data\n",
            "\n",
            " LogisticRegression()\n",
            "0.8181818181818182\n",
            "\n",
            " SVC()\n",
            "0.7857142857142857\n",
            "\n",
            " GaussianNB()\n",
            "0.7987012987012987\n",
            "\n",
            " DecisionTreeClassifier()\n",
            "1.0\n",
            "\n",
            " KNeighborsClassifier()\n",
            "0.8246753246753247\n"
          ]
        },
        {
          "output_type": "stream",
          "name": "stderr",
          "text": [
            "/usr/local/lib/python3.7/dist-packages/sklearn/linear_model/_logistic.py:818: ConvergenceWarning: lbfgs failed to converge (status=1):\n",
            "STOP: TOTAL NO. of ITERATIONS REACHED LIMIT.\n",
            "\n",
            "Increase the number of iterations (max_iter) or scale the data as shown in:\n",
            "    https://scikit-learn.org/stable/modules/preprocessing.html\n",
            "Please also refer to the documentation for alternative solver options:\n",
            "    https://scikit-learn.org/stable/modules/linear_model.html#logistic-regression\n",
            "  extra_warning_msg=_LOGISTIC_SOLVER_CONVERGENCE_MSG,\n"
          ]
        }
      ]
    },
    {
      "cell_type": "code",
      "source": [
        "# Creating a pickle file for the classifier\n",
        "import joblib\n",
        "models = [log_model, svm_model, nv_bayes, d_tree, k_nearest]\n",
        "print(\"Test Data\")\n",
        "for m in models:\n",
        "  modName = str(m)\n",
        "  joblib.dump(m, modName)\n",
        "  model = joblib.load(str(m))\n",
        "  laptopmodel = model.predict([[9, 106.0, 52.0, 26.666667, 148.000000, 31.2, 0.380, 42]])\n",
        "  print(str(m), laptopmodel)"
      ],
      "metadata": {
        "colab": {
          "base_uri": "https://localhost:8080/"
        },
        "id": "_Ju5l0KGqJwm",
        "outputId": "17d54239-88aa-4ce5-be04-064829bdaef3"
      },
      "execution_count": 7,
      "outputs": [
        {
          "output_type": "stream",
          "name": "stdout",
          "text": [
            "Test Data\n",
            "LogisticRegression() [0]\n",
            "SVC() [0]\n",
            "GaussianNB() [0]\n",
            "DecisionTreeClassifier() [0]\n",
            "KNeighborsClassifier() [0]\n"
          ]
        },
        {
          "output_type": "stream",
          "name": "stderr",
          "text": [
            "/usr/local/lib/python3.7/dist-packages/sklearn/base.py:451: UserWarning: X does not have valid feature names, but LogisticRegression was fitted with feature names\n",
            "  \"X does not have valid feature names, but\"\n",
            "/usr/local/lib/python3.7/dist-packages/sklearn/base.py:451: UserWarning: X does not have valid feature names, but SVC was fitted with feature names\n",
            "  \"X does not have valid feature names, but\"\n",
            "/usr/local/lib/python3.7/dist-packages/sklearn/base.py:451: UserWarning: X does not have valid feature names, but GaussianNB was fitted with feature names\n",
            "  \"X does not have valid feature names, but\"\n",
            "/usr/local/lib/python3.7/dist-packages/sklearn/base.py:451: UserWarning: X does not have valid feature names, but DecisionTreeClassifier was fitted with feature names\n",
            "  \"X does not have valid feature names, but\"\n",
            "/usr/local/lib/python3.7/dist-packages/sklearn/base.py:451: UserWarning: X does not have valid feature names, but KNeighborsClassifier was fitted with feature names\n",
            "  \"X does not have valid feature names, but\"\n"
          ]
        }
      ]
    }
  ]
}